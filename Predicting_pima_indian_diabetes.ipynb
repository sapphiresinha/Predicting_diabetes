{
 "cells": [
  {
   "cell_type": "code",
   "execution_count": 95,
   "metadata": {
    "ExecuteTime": {
     "end_time": "2020-01-28T08:03:34.162160Z",
     "start_time": "2020-01-28T08:03:34.150431Z"
    }
   },
   "outputs": [],
   "source": [
    "from scipy import optimize\n",
    "import pandas as pd\n",
    "import numpy as np\n",
    "import matplotlib.pyplot as plt\n",
    "%matplotlib inline\n"
   ]
  },
  {
   "cell_type": "markdown",
   "metadata": {},
   "source": [
    "# Load Dataset: Diabetes.CSV"
   ]
  },
  {
   "cell_type": "code",
   "execution_count": 96,
   "metadata": {
    "ExecuteTime": {
     "end_time": "2020-01-28T08:03:35.479569Z",
     "start_time": "2020-01-28T08:03:35.411004Z"
    }
   },
   "outputs": [
    {
     "data": {
      "text/html": [
       "<div>\n",
       "<style scoped>\n",
       "    .dataframe tbody tr th:only-of-type {\n",
       "        vertical-align: middle;\n",
       "    }\n",
       "\n",
       "    .dataframe tbody tr th {\n",
       "        vertical-align: top;\n",
       "    }\n",
       "\n",
       "    .dataframe thead th {\n",
       "        text-align: right;\n",
       "    }\n",
       "</style>\n",
       "<table border=\"1\" class=\"dataframe\">\n",
       "  <thead>\n",
       "    <tr style=\"text-align: right;\">\n",
       "      <th></th>\n",
       "      <th>Pregnancies</th>\n",
       "      <th>Glucose</th>\n",
       "      <th>BloodPressure</th>\n",
       "      <th>SkinThickness</th>\n",
       "      <th>Insulin</th>\n",
       "      <th>BMI</th>\n",
       "      <th>DiabetesPedigreeFunction</th>\n",
       "      <th>Age</th>\n",
       "      <th>Outcome</th>\n",
       "    </tr>\n",
       "  </thead>\n",
       "  <tbody>\n",
       "    <tr>\n",
       "      <th>0</th>\n",
       "      <td>6</td>\n",
       "      <td>148</td>\n",
       "      <td>72</td>\n",
       "      <td>35</td>\n",
       "      <td>0</td>\n",
       "      <td>33.6</td>\n",
       "      <td>0.627</td>\n",
       "      <td>50</td>\n",
       "      <td>1</td>\n",
       "    </tr>\n",
       "    <tr>\n",
       "      <th>1</th>\n",
       "      <td>1</td>\n",
       "      <td>85</td>\n",
       "      <td>66</td>\n",
       "      <td>29</td>\n",
       "      <td>0</td>\n",
       "      <td>26.6</td>\n",
       "      <td>0.351</td>\n",
       "      <td>31</td>\n",
       "      <td>0</td>\n",
       "    </tr>\n",
       "    <tr>\n",
       "      <th>2</th>\n",
       "      <td>8</td>\n",
       "      <td>183</td>\n",
       "      <td>64</td>\n",
       "      <td>0</td>\n",
       "      <td>0</td>\n",
       "      <td>23.3</td>\n",
       "      <td>0.672</td>\n",
       "      <td>32</td>\n",
       "      <td>1</td>\n",
       "    </tr>\n",
       "    <tr>\n",
       "      <th>3</th>\n",
       "      <td>1</td>\n",
       "      <td>89</td>\n",
       "      <td>66</td>\n",
       "      <td>23</td>\n",
       "      <td>94</td>\n",
       "      <td>28.1</td>\n",
       "      <td>0.167</td>\n",
       "      <td>21</td>\n",
       "      <td>0</td>\n",
       "    </tr>\n",
       "    <tr>\n",
       "      <th>4</th>\n",
       "      <td>0</td>\n",
       "      <td>137</td>\n",
       "      <td>40</td>\n",
       "      <td>35</td>\n",
       "      <td>168</td>\n",
       "      <td>43.1</td>\n",
       "      <td>2.288</td>\n",
       "      <td>33</td>\n",
       "      <td>1</td>\n",
       "    </tr>\n",
       "    <tr>\n",
       "      <th>5</th>\n",
       "      <td>5</td>\n",
       "      <td>116</td>\n",
       "      <td>74</td>\n",
       "      <td>0</td>\n",
       "      <td>0</td>\n",
       "      <td>25.6</td>\n",
       "      <td>0.201</td>\n",
       "      <td>30</td>\n",
       "      <td>0</td>\n",
       "    </tr>\n",
       "    <tr>\n",
       "      <th>6</th>\n",
       "      <td>3</td>\n",
       "      <td>78</td>\n",
       "      <td>50</td>\n",
       "      <td>32</td>\n",
       "      <td>88</td>\n",
       "      <td>31.0</td>\n",
       "      <td>0.248</td>\n",
       "      <td>26</td>\n",
       "      <td>1</td>\n",
       "    </tr>\n",
       "    <tr>\n",
       "      <th>7</th>\n",
       "      <td>10</td>\n",
       "      <td>115</td>\n",
       "      <td>0</td>\n",
       "      <td>0</td>\n",
       "      <td>0</td>\n",
       "      <td>35.3</td>\n",
       "      <td>0.134</td>\n",
       "      <td>29</td>\n",
       "      <td>0</td>\n",
       "    </tr>\n",
       "    <tr>\n",
       "      <th>8</th>\n",
       "      <td>2</td>\n",
       "      <td>197</td>\n",
       "      <td>70</td>\n",
       "      <td>45</td>\n",
       "      <td>543</td>\n",
       "      <td>30.5</td>\n",
       "      <td>0.158</td>\n",
       "      <td>53</td>\n",
       "      <td>1</td>\n",
       "    </tr>\n",
       "    <tr>\n",
       "      <th>9</th>\n",
       "      <td>8</td>\n",
       "      <td>125</td>\n",
       "      <td>96</td>\n",
       "      <td>0</td>\n",
       "      <td>0</td>\n",
       "      <td>0.0</td>\n",
       "      <td>0.232</td>\n",
       "      <td>54</td>\n",
       "      <td>1</td>\n",
       "    </tr>\n",
       "  </tbody>\n",
       "</table>\n",
       "</div>"
      ],
      "text/plain": [
       "   Pregnancies  Glucose  BloodPressure  SkinThickness  Insulin   BMI  \\\n",
       "0            6      148             72             35        0  33.6   \n",
       "1            1       85             66             29        0  26.6   \n",
       "2            8      183             64              0        0  23.3   \n",
       "3            1       89             66             23       94  28.1   \n",
       "4            0      137             40             35      168  43.1   \n",
       "5            5      116             74              0        0  25.6   \n",
       "6            3       78             50             32       88  31.0   \n",
       "7           10      115              0              0        0  35.3   \n",
       "8            2      197             70             45      543  30.5   \n",
       "9            8      125             96              0        0   0.0   \n",
       "\n",
       "   DiabetesPedigreeFunction  Age  Outcome  \n",
       "0                     0.627   50        1  \n",
       "1                     0.351   31        0  \n",
       "2                     0.672   32        1  \n",
       "3                     0.167   21        0  \n",
       "4                     2.288   33        1  \n",
       "5                     0.201   30        0  \n",
       "6                     0.248   26        1  \n",
       "7                     0.134   29        0  \n",
       "8                     0.158   53        1  \n",
       "9                     0.232   54        1  "
      ]
     },
     "execution_count": 96,
     "metadata": {},
     "output_type": "execute_result"
    }
   ],
   "source": [
    "#step1 read the filein csv format\n",
    "diabetes = pd.read_csv(\"C:/Users/sapph/Desktop/capston_project/diabetes.csv\", header = 0, sep = ',' ,index_col = None)\n",
    "diabetes.head(10)"
   ]
  },
  {
   "cell_type": "markdown",
   "metadata": {},
   "source": [
    "# Exploratory Data Analysis"
   ]
  },
  {
   "cell_type": "code",
   "execution_count": 97,
   "metadata": {
    "ExecuteTime": {
     "end_time": "2020-01-28T08:03:42.622757Z",
     "start_time": "2020-01-28T08:03:42.414439Z"
    }
   },
   "outputs": [
    {
     "name": "stdout",
     "output_type": "stream",
     "text": [
      "<class 'pandas.core.frame.DataFrame'>\n",
      "RangeIndex: 768 entries, 0 to 767\n",
      "Data columns (total 9 columns):\n",
      "Pregnancies                 768 non-null int64\n",
      "Glucose                     768 non-null int64\n",
      "BloodPressure               768 non-null int64\n",
      "SkinThickness               768 non-null int64\n",
      "Insulin                     768 non-null int64\n",
      "BMI                         768 non-null float64\n",
      "DiabetesPedigreeFunction    768 non-null float64\n",
      "Age                         768 non-null int64\n",
      "Outcome                     768 non-null int64\n",
      "dtypes: float64(2), int64(7)\n",
      "memory usage: 54.1 KB\n",
      "None\n"
     ]
    },
    {
     "data": {
      "text/html": [
       "<div>\n",
       "<style scoped>\n",
       "    .dataframe tbody tr th:only-of-type {\n",
       "        vertical-align: middle;\n",
       "    }\n",
       "\n",
       "    .dataframe tbody tr th {\n",
       "        vertical-align: top;\n",
       "    }\n",
       "\n",
       "    .dataframe thead th {\n",
       "        text-align: right;\n",
       "    }\n",
       "</style>\n",
       "<table border=\"1\" class=\"dataframe\">\n",
       "  <thead>\n",
       "    <tr style=\"text-align: right;\">\n",
       "      <th></th>\n",
       "      <th>Pregnancies</th>\n",
       "      <th>Glucose</th>\n",
       "      <th>BloodPressure</th>\n",
       "      <th>SkinThickness</th>\n",
       "      <th>Insulin</th>\n",
       "      <th>BMI</th>\n",
       "      <th>DiabetesPedigreeFunction</th>\n",
       "      <th>Age</th>\n",
       "      <th>Outcome</th>\n",
       "    </tr>\n",
       "  </thead>\n",
       "  <tbody>\n",
       "    <tr>\n",
       "      <th>count</th>\n",
       "      <td>768.000000</td>\n",
       "      <td>768.000000</td>\n",
       "      <td>768.000000</td>\n",
       "      <td>768.000000</td>\n",
       "      <td>768.000000</td>\n",
       "      <td>768.000000</td>\n",
       "      <td>768.000000</td>\n",
       "      <td>768.000000</td>\n",
       "      <td>768.000000</td>\n",
       "    </tr>\n",
       "    <tr>\n",
       "      <th>mean</th>\n",
       "      <td>3.845052</td>\n",
       "      <td>120.894531</td>\n",
       "      <td>69.105469</td>\n",
       "      <td>20.536458</td>\n",
       "      <td>79.799479</td>\n",
       "      <td>31.992578</td>\n",
       "      <td>0.471876</td>\n",
       "      <td>33.240885</td>\n",
       "      <td>0.348958</td>\n",
       "    </tr>\n",
       "    <tr>\n",
       "      <th>std</th>\n",
       "      <td>3.369578</td>\n",
       "      <td>31.972618</td>\n",
       "      <td>19.355807</td>\n",
       "      <td>15.952218</td>\n",
       "      <td>115.244002</td>\n",
       "      <td>7.884160</td>\n",
       "      <td>0.331329</td>\n",
       "      <td>11.760232</td>\n",
       "      <td>0.476951</td>\n",
       "    </tr>\n",
       "    <tr>\n",
       "      <th>min</th>\n",
       "      <td>0.000000</td>\n",
       "      <td>0.000000</td>\n",
       "      <td>0.000000</td>\n",
       "      <td>0.000000</td>\n",
       "      <td>0.000000</td>\n",
       "      <td>0.000000</td>\n",
       "      <td>0.078000</td>\n",
       "      <td>21.000000</td>\n",
       "      <td>0.000000</td>\n",
       "    </tr>\n",
       "    <tr>\n",
       "      <th>25%</th>\n",
       "      <td>1.000000</td>\n",
       "      <td>99.000000</td>\n",
       "      <td>62.000000</td>\n",
       "      <td>0.000000</td>\n",
       "      <td>0.000000</td>\n",
       "      <td>27.300000</td>\n",
       "      <td>0.243750</td>\n",
       "      <td>24.000000</td>\n",
       "      <td>0.000000</td>\n",
       "    </tr>\n",
       "    <tr>\n",
       "      <th>50%</th>\n",
       "      <td>3.000000</td>\n",
       "      <td>117.000000</td>\n",
       "      <td>72.000000</td>\n",
       "      <td>23.000000</td>\n",
       "      <td>30.500000</td>\n",
       "      <td>32.000000</td>\n",
       "      <td>0.372500</td>\n",
       "      <td>29.000000</td>\n",
       "      <td>0.000000</td>\n",
       "    </tr>\n",
       "    <tr>\n",
       "      <th>75%</th>\n",
       "      <td>6.000000</td>\n",
       "      <td>140.250000</td>\n",
       "      <td>80.000000</td>\n",
       "      <td>32.000000</td>\n",
       "      <td>127.250000</td>\n",
       "      <td>36.600000</td>\n",
       "      <td>0.626250</td>\n",
       "      <td>41.000000</td>\n",
       "      <td>1.000000</td>\n",
       "    </tr>\n",
       "    <tr>\n",
       "      <th>max</th>\n",
       "      <td>17.000000</td>\n",
       "      <td>199.000000</td>\n",
       "      <td>122.000000</td>\n",
       "      <td>99.000000</td>\n",
       "      <td>846.000000</td>\n",
       "      <td>67.100000</td>\n",
       "      <td>2.420000</td>\n",
       "      <td>81.000000</td>\n",
       "      <td>1.000000</td>\n",
       "    </tr>\n",
       "  </tbody>\n",
       "</table>\n",
       "</div>"
      ],
      "text/plain": [
       "       Pregnancies     Glucose  BloodPressure  SkinThickness     Insulin  \\\n",
       "count   768.000000  768.000000     768.000000     768.000000  768.000000   \n",
       "mean      3.845052  120.894531      69.105469      20.536458   79.799479   \n",
       "std       3.369578   31.972618      19.355807      15.952218  115.244002   \n",
       "min       0.000000    0.000000       0.000000       0.000000    0.000000   \n",
       "25%       1.000000   99.000000      62.000000       0.000000    0.000000   \n",
       "50%       3.000000  117.000000      72.000000      23.000000   30.500000   \n",
       "75%       6.000000  140.250000      80.000000      32.000000  127.250000   \n",
       "max      17.000000  199.000000     122.000000      99.000000  846.000000   \n",
       "\n",
       "              BMI  DiabetesPedigreeFunction         Age     Outcome  \n",
       "count  768.000000                768.000000  768.000000  768.000000  \n",
       "mean    31.992578                  0.471876   33.240885    0.348958  \n",
       "std      7.884160                  0.331329   11.760232    0.476951  \n",
       "min      0.000000                  0.078000   21.000000    0.000000  \n",
       "25%     27.300000                  0.243750   24.000000    0.000000  \n",
       "50%     32.000000                  0.372500   29.000000    0.000000  \n",
       "75%     36.600000                  0.626250   41.000000    1.000000  \n",
       "max     67.100000                  2.420000   81.000000    1.000000  "
      ]
     },
     "execution_count": 97,
     "metadata": {},
     "output_type": "execute_result"
    }
   ],
   "source": [
    "# Basic EDA of the Dataset.\n",
    "print(diabetes.info(verbose=True))\n",
    "diabetes.describe()"
   ]
  },
  {
   "cell_type": "markdown",
   "metadata": {},
   "source": [
    "From above describe method, we analyse that the min value is zero for more than one columns which means on these columns other than(pregnancies, outcome), a value of zero does not make sense and thus indicates missing value.\n",
    "\n",
    "Following columns or variables have an invalid zero value:\n",
    "\n",
    "Glucose  \n",
    "BloodPressure  \n",
    "SkinThickness  \n",
    "Insulin  \n",
    "BMI  "
   ]
  },
  {
   "cell_type": "code",
   "execution_count": 98,
   "metadata": {
    "ExecuteTime": {
     "end_time": "2020-01-28T08:03:49.675111Z",
     "start_time": "2020-01-28T08:03:47.032876Z"
    }
   },
   "outputs": [
    {
     "data": {
      "image/png": "[encoded data removed]",
      "text/plain": [
       "<Figure size 576x576 with 9 Axes>"
      ]
     },
     "metadata": {
      "needs_background": "light"
     },
     "output_type": "display_data"
    }
   ],
   "source": [
    "# histogram plotting after replacing zeros or missing values\n",
    "hist_1 = diabetes.hist(figsize=(8,8))"
   ]
  },
  {
   "cell_type": "code",
   "execution_count": 79,
   "metadata": {
    "ExecuteTime": {
     "end_time": "2020-01-28T08:01:42.746309Z",
     "start_time": "2020-01-28T08:01:42.720771Z"
    }
   },
   "outputs": [],
   "source": [
    "diabetes[['Glucose','BloodPressure','SkinThickness','Insulin','BMI']] = diabetes[['Glucose','BloodPressure','SkinThickness','Insulin','BMI']].replace(0,np.NaN)"
   ]
  },
  {
   "cell_type": "code",
   "execution_count": 80,
   "metadata": {
    "ExecuteTime": {
     "end_time": "2020-01-28T08:01:42.775265Z",
     "start_time": "2020-01-28T08:01:42.753341Z"
    }
   },
   "outputs": [
    {
     "data": {
      "text/plain": [
       "Pregnancies                 768\n",
       "Glucose                     763\n",
       "BloodPressure               733\n",
       "SkinThickness               541\n",
       "Insulin                     394\n",
       "BMI                         757\n",
       "DiabetesPedigreeFunction    768\n",
       "Age                         768\n",
       "Outcome                     768\n",
       "dtype: int64"
      ]
     },
     "execution_count": 80,
     "metadata": {},
     "output_type": "execute_result"
    }
   ],
   "source": [
    "diabetes.count()\n",
    "# import missingno as msno\n",
    "# p=msno.bar(diabetes_data)"
   ]
  },
  {
   "cell_type": "markdown",
   "metadata": {},
   "source": [
    "# Imputation"
   ]
  },
  {
   "cell_type": "code",
   "execution_count": 99,
   "metadata": {
    "ExecuteTime": {
     "end_time": "2020-01-28T08:04:07.369818Z",
     "start_time": "2020-01-28T08:04:07.343628Z"
    }
   },
   "outputs": [
    {
     "name": "stdout",
     "output_type": "stream",
     "text": [
      "     Pregnancies  Glucose  BloodPressure  SkinThickness  Insulin   BMI  \\\n",
      "75             1        0             48             20        0  24.7   \n",
      "182            1        0             74             20       23  27.7   \n",
      "342            1        0             68             35        0  32.0   \n",
      "349            5        0             80             32        0  41.0   \n",
      "502            6        0             68             41        0  39.0   \n",
      "\n",
      "     DiabetesPedigreeFunction  Age  Outcome  \n",
      "75                      0.140   22        0  \n",
      "182                     0.299   21        0  \n",
      "342                     0.389   22        0  \n",
      "349                     0.346   37        1  \n",
      "502                     0.727   41        1  \n"
     ]
    }
   ],
   "source": [
    "# print(diabetes[diabetes == 0].count())\n",
    "print(diabetes[diabetes['Glucose'] == 0])"
   ]
  },
  {
   "cell_type": "code",
   "execution_count": 100,
   "metadata": {
    "ExecuteTime": {
     "end_time": "2020-01-28T08:04:23.643395Z",
     "start_time": "2020-01-28T08:04:23.597306Z"
    }
   },
   "outputs": [],
   "source": [
    "#step3 clean the data - Aiming to impute 0 values for the columns(Glucose, BloodPressure, SkinThickness, Insulin, BMI) \n",
    "#with mean for each class\n",
    "\n",
    "diabetes['Glucose']= diabetes['Glucose'].replace(0, diabetes['Glucose'].mean())\n",
    "diabetes['BloodPressure']= diabetes['BloodPressure'].replace(0, diabetes['BloodPressure'].mean())\n",
    "diabetes['SkinThickness']= diabetes['SkinThickness'].replace(0, diabetes['SkinThickness'].mean())\n",
    "diabetes['Insulin']= diabetes['Insulin'].replace(0, diabetes['Insulin'].mean())\n",
    "diabetes['BMI']= diabetes['BMI'].replace(0, diabetes['BMI'].mean())"
   ]
  },
  {
   "cell_type": "code",
   "execution_count": 101,
   "metadata": {
    "ExecuteTime": {
     "end_time": "2020-01-28T08:04:29.019048Z",
     "start_time": "2020-01-28T08:04:26.363703Z"
    }
   },
   "outputs": [
    {
     "data": {
      "image/png": "[encoded data removed]",
      "text/plain": [
       "<Figure size 576x576 with 9 Axes>"
      ]
     },
     "metadata": {
      "needs_background": "light"
     },
     "output_type": "display_data"
    }
   ],
   "source": [
    "# histogram plotting after replacing zeros or missing values\n",
    "hist_1 = diabetes.hist(figsize=(8,8))"
   ]
  },
  {
   "cell_type": "code",
   "execution_count": 102,
   "metadata": {
    "ExecuteTime": {
     "end_time": "2020-01-28T08:04:31.317978Z",
     "start_time": "2020-01-28T08:04:30.966642Z"
    }
   },
   "outputs": [
    {
     "data": {
      "image/png": "[encoded data removed]",
      "text/plain": [
       "<Figure size 432x288 with 1 Axes>"
      ]
     },
     "metadata": {
      "needs_background": "light"
     },
     "output_type": "display_data"
    }
   ],
   "source": [
    "import seaborn as sns\n",
    "sns.countplot(x='Outcome',data=diabetes)\n",
    "plt.show()"
   ]
  },
  {
   "cell_type": "markdown",
   "metadata": {},
   "source": [
    "### The pairs plot builds on two basic figures, the histogram and the scatter plot. The histogram on the diagonal allows us to see the distribution of a single variable while the scatter plots on the upper and lower triangles show the relationship (or lack thereof) between two variables.  \n",
    "For Reference: https://towardsdatascience.com/visualizing-data-with-pair-plots-in-python-f228cf529166"
   ]
  },
  {
   "cell_type": "code",
   "execution_count": 103,
   "metadata": {
    "ExecuteTime": {
     "end_time": "2020-01-28T08:04:33.226683Z",
     "start_time": "2020-01-28T08:04:32.949298Z"
    }
   },
   "outputs": [
    {
     "data": {
      "text/html": [
       "<style  type=\"text/css\" >\n",
       "    #T_d16b29ec_41a4_11ea_a01e_ad7c82ce902frow0_col0 {\n",
       "            background-color:  #67001f;\n",
       "            color:  #f1f1f1;\n",
       "        }    #T_d16b29ec_41a4_11ea_a01e_ad7c82ce902frow0_col1 {\n",
       "            background-color:  #337eb8;\n",
       "            color:  #000000;\n",
       "        }    #T_d16b29ec_41a4_11ea_a01e_ad7c82ce902frow0_col2 {\n",
       "            background-color:  #5fa5cd;\n",
       "            color:  #000000;\n",
       "        }    #T_d16b29ec_41a4_11ea_a01e_ad7c82ce902frow0_col3 {\n",
       "            background-color:  #114781;\n",
       "            color:  #f1f1f1;\n",
       "        }    #T_d16b29ec_41a4_11ea_a01e_ad7c82ce902frow0_col4 {\n",
       "            background-color:  #08366a;\n",
       "            color:  #f1f1f1;\n",
       "        }    #T_d16b29ec_41a4_11ea_a01e_ad7c82ce902frow0_col5 {\n",
       "            background-color:  #134c87;\n",
       "            color:  #f1f1f1;\n",
       "        }    #T_d16b29ec_41a4_11ea_a01e_ad7c82ce902frow0_col6 {\n",
       "            background-color:  #053061;\n",
       "            color:  #f1f1f1;\n",
       "        }    #T_d16b29ec_41a4_11ea_a01e_ad7c82ce902frow0_col7 {\n",
       "            background-color:  #fbe6da;\n",
       "            color:  #000000;\n",
       "        }    #T_d16b29ec_41a4_11ea_a01e_ad7c82ce902frow0_col8 {\n",
       "            background-color:  #68abd0;\n",
       "            color:  #000000;\n",
       "        }    #T_d16b29ec_41a4_11ea_a01e_ad7c82ce902frow1_col0 {\n",
       "            background-color:  #337eb8;\n",
       "            color:  #000000;\n",
       "        }    #T_d16b29ec_41a4_11ea_a01e_ad7c82ce902frow1_col1 {\n",
       "            background-color:  #67001f;\n",
       "            color:  #f1f1f1;\n",
       "        }    #T_d16b29ec_41a4_11ea_a01e_ad7c82ce902frow1_col2 {\n",
       "            background-color:  #65a9cf;\n",
       "            color:  #000000;\n",
       "        }    #T_d16b29ec_41a4_11ea_a01e_ad7c82ce902frow1_col3 {\n",
       "            background-color:  #3f8ec0;\n",
       "            color:  #000000;\n",
       "        }    #T_d16b29ec_41a4_11ea_a01e_ad7c82ce902frow1_col4 {\n",
       "            background-color:  #d7e8f1;\n",
       "            color:  #000000;\n",
       "        }    #T_d16b29ec_41a4_11ea_a01e_ad7c82ce902frow1_col5 {\n",
       "            background-color:  #6eaed2;\n",
       "            color:  #000000;\n",
       "        }    #T_d16b29ec_41a4_11ea_a01e_ad7c82ce902frow1_col6 {\n",
       "            background-color:  #3783bb;\n",
       "            color:  #000000;\n",
       "        }    #T_d16b29ec_41a4_11ea_a01e_ad7c82ce902frow1_col7 {\n",
       "            background-color:  #8ac0db;\n",
       "            color:  #000000;\n",
       "        }    #T_d16b29ec_41a4_11ea_a01e_ad7c82ce902frow1_col8 {\n",
       "            background-color:  #f8f4f2;\n",
       "            color:  #000000;\n",
       "        }    #T_d16b29ec_41a4_11ea_a01e_ad7c82ce902frow2_col0 {\n",
       "            background-color:  #5fa5cd;\n",
       "            color:  #000000;\n",
       "        }    #T_d16b29ec_41a4_11ea_a01e_ad7c82ce902frow2_col1 {\n",
       "            background-color:  #65a9cf;\n",
       "            color:  #000000;\n",
       "        }    #T_d16b29ec_41a4_11ea_a01e_ad7c82ce902frow2_col2 {\n",
       "            background-color:  #67001f;\n",
       "            color:  #f1f1f1;\n",
       "        }    #T_d16b29ec_41a4_11ea_a01e_ad7c82ce902frow2_col3 {\n",
       "            background-color:  #3681ba;\n",
       "            color:  #000000;\n",
       "        }    #T_d16b29ec_41a4_11ea_a01e_ad7c82ce902frow2_col4 {\n",
       "            background-color:  #114781;\n",
       "            color:  #f1f1f1;\n",
       "        }    #T_d16b29ec_41a4_11ea_a01e_ad7c82ce902frow2_col5 {\n",
       "            background-color:  #93c6de;\n",
       "            color:  #000000;\n",
       "        }    #T_d16b29ec_41a4_11ea_a01e_ad7c82ce902frow2_col6 {\n",
       "            background-color:  #0e4179;\n",
       "            color:  #f1f1f1;\n",
       "        }    #T_d16b29ec_41a4_11ea_a01e_ad7c82ce902frow2_col7 {\n",
       "            background-color:  #b1d5e7;\n",
       "            color:  #000000;\n",
       "        }    #T_d16b29ec_41a4_11ea_a01e_ad7c82ce902frow2_col8 {\n",
       "            background-color:  #3f8ec0;\n",
       "            color:  #000000;\n",
       "        }    #T_d16b29ec_41a4_11ea_a01e_ad7c82ce902frow3_col0 {\n",
       "            background-color:  #114781;\n",
       "            color:  #f1f1f1;\n",
       "        }    #T_d16b29ec_41a4_11ea_a01e_ad7c82ce902frow3_col1 {\n",
       "            background-color:  #3f8ec0;\n",
       "            color:  #000000;\n",
       "        }    #T_d16b29ec_41a4_11ea_a01e_ad7c82ce902frow3_col2 {\n",
       "            background-color:  #3681ba;\n",
       "            color:  #000000;\n",
       "        }    #T_d16b29ec_41a4_11ea_a01e_ad7c82ce902frow3_col3 {\n",
       "            background-color:  #67001f;\n",
       "            color:  #f1f1f1;\n",
       "        }    #T_d16b29ec_41a4_11ea_a01e_ad7c82ce902frow3_col4 {\n",
       "            background-color:  #75b2d4;\n",
       "            color:  #000000;\n",
       "        }    #T_d16b29ec_41a4_11ea_a01e_ad7c82ce902frow3_col5 {\n",
       "            background-color:  #fae9df;\n",
       "            color:  #000000;\n",
       "        }    #T_d16b29ec_41a4_11ea_a01e_ad7c82ce902frow3_col6 {\n",
       "            background-color:  #3c8abe;\n",
       "            color:  #000000;\n",
       "        }    #T_d16b29ec_41a4_11ea_a01e_ad7c82ce902frow3_col7 {\n",
       "            background-color:  #144e8a;\n",
       "            color:  #f1f1f1;\n",
       "        }    #T_d16b29ec_41a4_11ea_a01e_ad7c82ce902frow3_col8 {\n",
       "            background-color:  #4393c3;\n",
       "            color:  #000000;\n",
       "        }    #T_d16b29ec_41a4_11ea_a01e_ad7c82ce902frow4_col0 {\n",
       "            background-color:  #08366a;\n",
       "            color:  #f1f1f1;\n",
       "        }    #T_d16b29ec_41a4_11ea_a01e_ad7c82ce902frow4_col1 {\n",
       "            background-color:  #d7e8f1;\n",
       "            color:  #000000;\n",
       "        }    #T_d16b29ec_41a4_11ea_a01e_ad7c82ce902frow4_col2 {\n",
       "            background-color:  #114781;\n",
       "            color:  #f1f1f1;\n",
       "        }    #T_d16b29ec_41a4_11ea_a01e_ad7c82ce902frow4_col3 {\n",
       "            background-color:  #75b2d4;\n",
       "            color:  #000000;\n",
       "        }    #T_d16b29ec_41a4_11ea_a01e_ad7c82ce902frow4_col4 {\n",
       "            background-color:  #67001f;\n",
       "            color:  #f1f1f1;\n",
       "        }    #T_d16b29ec_41a4_11ea_a01e_ad7c82ce902frow4_col5 {\n",
       "            background-color:  #4f9bc7;\n",
       "            color:  #000000;\n",
       "        }    #T_d16b29ec_41a4_11ea_a01e_ad7c82ce902frow4_col6 {\n",
       "            background-color:  #3e8cbf;\n",
       "            color:  #000000;\n",
       "        }    #T_d16b29ec_41a4_11ea_a01e_ad7c82ce902frow4_col7 {\n",
       "            background-color:  #185493;\n",
       "            color:  #f1f1f1;\n",
       "        }    #T_d16b29ec_41a4_11ea_a01e_ad7c82ce902frow4_col8 {\n",
       "            background-color:  #4695c4;\n",
       "            color:  #000000;\n",
       "        }    #T_d16b29ec_41a4_11ea_a01e_ad7c82ce902frow5_col0 {\n",
       "            background-color:  #134c87;\n",
       "            color:  #f1f1f1;\n",
       "        }    #T_d16b29ec_41a4_11ea_a01e_ad7c82ce902frow5_col1 {\n",
       "            background-color:  #6eaed2;\n",
       "            color:  #000000;\n",
       "        }    #T_d16b29ec_41a4_11ea_a01e_ad7c82ce902frow5_col2 {\n",
       "            background-color:  #93c6de;\n",
       "            color:  #000000;\n",
       "        }    #T_d16b29ec_41a4_11ea_a01e_ad7c82ce902frow5_col3 {\n",
       "            background-color:  #fae9df;\n",
       "            color:  #000000;\n",
       "        }    #T_d16b29ec_41a4_11ea_a01e_ad7c82ce902frow5_col4 {\n",
       "            background-color:  #4f9bc7;\n",
       "            color:  #000000;\n",
       "        }    #T_d16b29ec_41a4_11ea_a01e_ad7c82ce902frow5_col5 {\n",
       "            background-color:  #67001f;\n",
       "            color:  #f1f1f1;\n",
       "        }    #T_d16b29ec_41a4_11ea_a01e_ad7c82ce902frow5_col6 {\n",
       "            background-color:  #3c8abe;\n",
       "            color:  #000000;\n",
       "        }    #T_d16b29ec_41a4_11ea_a01e_ad7c82ce902frow5_col7 {\n",
       "            background-color:  #144e8a;\n",
       "            color:  #f1f1f1;\n",
       "        }    #T_d16b29ec_41a4_11ea_a01e_ad7c82ce902frow5_col8 {\n",
       "            background-color:  #a7d0e4;\n",
       "            color:  #000000;\n",
       "        }    #T_d16b29ec_41a4_11ea_a01e_ad7c82ce902frow6_col0 {\n",
       "            background-color:  #053061;\n",
       "            color:  #f1f1f1;\n",
       "        }    #T_d16b29ec_41a4_11ea_a01e_ad7c82ce902frow6_col1 {\n",
       "            background-color:  #3783bb;\n",
       "            color:  #000000;\n",
       "        }    #T_d16b29ec_41a4_11ea_a01e_ad7c82ce902frow6_col2 {\n",
       "            background-color:  #0e4179;\n",
       "            color:  #f1f1f1;\n",
       "        }    #T_d16b29ec_41a4_11ea_a01e_ad7c82ce902frow6_col3 {\n",
       "            background-color:  #3c8abe;\n",
       "            color:  #000000;\n",
       "        }    #T_d16b29ec_41a4_11ea_a01e_ad7c82ce902frow6_col4 {\n",
       "            background-color:  #3e8cbf;\n",
       "            color:  #000000;\n",
       "        }    #T_d16b29ec_41a4_11ea_a01e_ad7c82ce902frow6_col5 {\n",
       "            background-color:  #3c8abe;\n",
       "            color:  #000000;\n",
       "        }    #T_d16b29ec_41a4_11ea_a01e_ad7c82ce902frow6_col6 {\n",
       "            background-color:  #67001f;\n",
       "            color:  #f1f1f1;\n",
       "        }    #T_d16b29ec_41a4_11ea_a01e_ad7c82ce902frow6_col7 {\n",
       "            background-color:  #175290;\n",
       "            color:  #f1f1f1;\n",
       "        }    #T_d16b29ec_41a4_11ea_a01e_ad7c82ce902frow6_col8 {\n",
       "            background-color:  #4393c3;\n",
       "            color:  #000000;\n",
       "        }    #T_d16b29ec_41a4_11ea_a01e_ad7c82ce902frow7_col0 {\n",
       "            background-color:  #fbe6da;\n",
       "            color:  #000000;\n",
       "        }    #T_d16b29ec_41a4_11ea_a01e_ad7c82ce902frow7_col1 {\n",
       "            background-color:  #8ac0db;\n",
       "            color:  #000000;\n",
       "        }    #T_d16b29ec_41a4_11ea_a01e_ad7c82ce902frow7_col2 {\n",
       "            background-color:  #b1d5e7;\n",
       "            color:  #000000;\n",
       "        }    #T_d16b29ec_41a4_11ea_a01e_ad7c82ce902frow7_col3 {\n",
       "            background-color:  #144e8a;\n",
       "            color:  #f1f1f1;\n",
       "        }    #T_d16b29ec_41a4_11ea_a01e_ad7c82ce902frow7_col4 {\n",
       "            background-color:  #185493;\n",
       "            color:  #f1f1f1;\n",
       "        }    #T_d16b29ec_41a4_11ea_a01e_ad7c82ce902frow7_col5 {\n",
       "            background-color:  #144e8a;\n",
       "            color:  #f1f1f1;\n",
       "        }    #T_d16b29ec_41a4_11ea_a01e_ad7c82ce902frow7_col6 {\n",
       "            background-color:  #175290;\n",
       "            color:  #f1f1f1;\n",
       "        }    #T_d16b29ec_41a4_11ea_a01e_ad7c82ce902frow7_col7 {\n",
       "            background-color:  #67001f;\n",
       "            color:  #f1f1f1;\n",
       "        }    #T_d16b29ec_41a4_11ea_a01e_ad7c82ce902frow7_col8 {\n",
       "            background-color:  #75b2d4;\n",
       "            color:  #000000;\n",
       "        }    #T_d16b29ec_41a4_11ea_a01e_ad7c82ce902frow8_col0 {\n",
       "            background-color:  #68abd0;\n",
       "            color:  #000000;\n",
       "        }    #T_d16b29ec_41a4_11ea_a01e_ad7c82ce902frow8_col1 {\n",
       "            background-color:  #f8f4f2;\n",
       "            color:  #000000;\n",
       "        }    #T_d16b29ec_41a4_11ea_a01e_ad7c82ce902frow8_col2 {\n",
       "            background-color:  #3f8ec0;\n",
       "            color:  #000000;\n",
       "        }    #T_d16b29ec_41a4_11ea_a01e_ad7c82ce902frow8_col3 {\n",
       "            background-color:  #4393c3;\n",
       "            color:  #000000;\n",
       "        }    #T_d16b29ec_41a4_11ea_a01e_ad7c82ce902frow8_col4 {\n",
       "            background-color:  #4695c4;\n",
       "            color:  #000000;\n",
       "        }    #T_d16b29ec_41a4_11ea_a01e_ad7c82ce902frow8_col5 {\n",
       "            background-color:  #a7d0e4;\n",
       "            color:  #000000;\n",
       "        }    #T_d16b29ec_41a4_11ea_a01e_ad7c82ce902frow8_col6 {\n",
       "            background-color:  #4393c3;\n",
       "            color:  #000000;\n",
       "        }    #T_d16b29ec_41a4_11ea_a01e_ad7c82ce902frow8_col7 {\n",
       "            background-color:  #75b2d4;\n",
       "            color:  #000000;\n",
       "        }    #T_d16b29ec_41a4_11ea_a01e_ad7c82ce902frow8_col8 {\n",
       "            background-color:  #67001f;\n",
       "            color:  #f1f1f1;\n",
       "        }</style><table id=\"T_d16b29ec_41a4_11ea_a01e_ad7c82ce902f\" ><thead>    <tr>        <th class=\"blank level0\" ></th>        <th class=\"col_heading level0 col0\" >Pregnancies</th>        <th class=\"col_heading level0 col1\" >Glucose</th>        <th class=\"col_heading level0 col2\" >BloodPressure</th>        <th class=\"col_heading level0 col3\" >SkinThickness</th>        <th class=\"col_heading level0 col4\" >Insulin</th>        <th class=\"col_heading level0 col5\" >BMI</th>        <th class=\"col_heading level0 col6\" >DiabetesPedigreeFunction</th>        <th class=\"col_heading level0 col7\" >Age</th>        <th class=\"col_heading level0 col8\" >Outcome</th>    </tr></thead><tbody>\n",
       "                <tr>\n",
       "                        <th id=\"T_d16b29ec_41a4_11ea_a01e_ad7c82ce902flevel0_row0\" class=\"row_heading level0 row0\" >Pregnancies</th>\n",
       "                        <td id=\"T_d16b29ec_41a4_11ea_a01e_ad7c82ce902frow0_col0\" class=\"data row0 col0\" >1</td>\n",
       "                        <td id=\"T_d16b29ec_41a4_11ea_a01e_ad7c82ce902frow0_col1\" class=\"data row0 col1\" >0.127964</td>\n",
       "                        <td id=\"T_d16b29ec_41a4_11ea_a01e_ad7c82ce902frow0_col2\" class=\"data row0 col2\" >0.208984</td>\n",
       "                        <td id=\"T_d16b29ec_41a4_11ea_a01e_ad7c82ce902frow0_col3\" class=\"data row0 col3\" >0.0133763</td>\n",
       "                        <td id=\"T_d16b29ec_41a4_11ea_a01e_ad7c82ce902frow0_col4\" class=\"data row0 col4\" >-0.0180823</td>\n",
       "                        <td id=\"T_d16b29ec_41a4_11ea_a01e_ad7c82ce902frow0_col5\" class=\"data row0 col5\" >0.0215459</td>\n",
       "                        <td id=\"T_d16b29ec_41a4_11ea_a01e_ad7c82ce902frow0_col6\" class=\"data row0 col6\" >-0.0335227</td>\n",
       "                        <td id=\"T_d16b29ec_41a4_11ea_a01e_ad7c82ce902frow0_col7\" class=\"data row0 col7\" >0.544341</td>\n",
       "                        <td id=\"T_d16b29ec_41a4_11ea_a01e_ad7c82ce902frow0_col8\" class=\"data row0 col8\" >0.221898</td>\n",
       "            </tr>\n",
       "            <tr>\n",
       "                        <th id=\"T_d16b29ec_41a4_11ea_a01e_ad7c82ce902flevel0_row1\" class=\"row_heading level0 row1\" >Glucose</th>\n",
       "                        <td id=\"T_d16b29ec_41a4_11ea_a01e_ad7c82ce902frow1_col0\" class=\"data row1 col0\" >0.127964</td>\n",
       "                        <td id=\"T_d16b29ec_41a4_11ea_a01e_ad7c82ce902frow1_col1\" class=\"data row1 col1\" >1</td>\n",
       "                        <td id=\"T_d16b29ec_41a4_11ea_a01e_ad7c82ce902frow1_col2\" class=\"data row1 col2\" >0.219666</td>\n",
       "                        <td id=\"T_d16b29ec_41a4_11ea_a01e_ad7c82ce902frow1_col3\" class=\"data row1 col3\" >0.160766</td>\n",
       "                        <td id=\"T_d16b29ec_41a4_11ea_a01e_ad7c82ce902frow1_col4\" class=\"data row1 col4\" >0.396597</td>\n",
       "                        <td id=\"T_d16b29ec_41a4_11ea_a01e_ad7c82ce902frow1_col5\" class=\"data row1 col5\" >0.231478</td>\n",
       "                        <td id=\"T_d16b29ec_41a4_11ea_a01e_ad7c82ce902frow1_col6\" class=\"data row1 col6\" >0.137106</td>\n",
       "                        <td id=\"T_d16b29ec_41a4_11ea_a01e_ad7c82ce902frow1_col7\" class=\"data row1 col7\" >0.2666</td>\n",
       "                        <td id=\"T_d16b29ec_41a4_11ea_a01e_ad7c82ce902frow1_col8\" class=\"data row1 col8\" >0.492908</td>\n",
       "            </tr>\n",
       "            <tr>\n",
       "                        <th id=\"T_d16b29ec_41a4_11ea_a01e_ad7c82ce902flevel0_row2\" class=\"row_heading level0 row2\" >BloodPressure</th>\n",
       "                        <td id=\"T_d16b29ec_41a4_11ea_a01e_ad7c82ce902frow2_col0\" class=\"data row2 col0\" >0.208984</td>\n",
       "                        <td id=\"T_d16b29ec_41a4_11ea_a01e_ad7c82ce902frow2_col1\" class=\"data row2 col1\" >0.219666</td>\n",
       "                        <td id=\"T_d16b29ec_41a4_11ea_a01e_ad7c82ce902frow2_col2\" class=\"data row2 col2\" >1</td>\n",
       "                        <td id=\"T_d16b29ec_41a4_11ea_a01e_ad7c82ce902frow2_col3\" class=\"data row2 col3\" >0.134155</td>\n",
       "                        <td id=\"T_d16b29ec_41a4_11ea_a01e_ad7c82ce902frow2_col4\" class=\"data row2 col4\" >0.0109262</td>\n",
       "                        <td id=\"T_d16b29ec_41a4_11ea_a01e_ad7c82ce902frow2_col5\" class=\"data row2 col5\" >0.281231</td>\n",
       "                        <td id=\"T_d16b29ec_41a4_11ea_a01e_ad7c82ce902frow2_col6\" class=\"data row2 col6\" >0.000371129</td>\n",
       "                        <td id=\"T_d16b29ec_41a4_11ea_a01e_ad7c82ce902frow2_col7\" class=\"data row2 col7\" >0.32674</td>\n",
       "                        <td id=\"T_d16b29ec_41a4_11ea_a01e_ad7c82ce902frow2_col8\" class=\"data row2 col8\" >0.162986</td>\n",
       "            </tr>\n",
       "            <tr>\n",
       "                        <th id=\"T_d16b29ec_41a4_11ea_a01e_ad7c82ce902flevel0_row3\" class=\"row_heading level0 row3\" >SkinThickness</th>\n",
       "                        <td id=\"T_d16b29ec_41a4_11ea_a01e_ad7c82ce902frow3_col0\" class=\"data row3 col0\" >0.0133763</td>\n",
       "                        <td id=\"T_d16b29ec_41a4_11ea_a01e_ad7c82ce902frow3_col1\" class=\"data row3 col1\" >0.160766</td>\n",
       "                        <td id=\"T_d16b29ec_41a4_11ea_a01e_ad7c82ce902frow3_col2\" class=\"data row3 col2\" >0.134155</td>\n",
       "                        <td id=\"T_d16b29ec_41a4_11ea_a01e_ad7c82ce902frow3_col3\" class=\"data row3 col3\" >1</td>\n",
       "                        <td id=\"T_d16b29ec_41a4_11ea_a01e_ad7c82ce902frow3_col4\" class=\"data row3 col4\" >0.240361</td>\n",
       "                        <td id=\"T_d16b29ec_41a4_11ea_a01e_ad7c82ce902frow3_col5\" class=\"data row3 col5\" >0.535703</td>\n",
       "                        <td id=\"T_d16b29ec_41a4_11ea_a01e_ad7c82ce902frow3_col6\" class=\"data row3 col6\" >0.154961</td>\n",
       "                        <td id=\"T_d16b29ec_41a4_11ea_a01e_ad7c82ce902frow3_col7\" class=\"data row3 col7\" >0.0264229</td>\n",
       "                        <td id=\"T_d16b29ec_41a4_11ea_a01e_ad7c82ce902frow3_col8\" class=\"data row3 col8\" >0.175026</td>\n",
       "            </tr>\n",
       "            <tr>\n",
       "                        <th id=\"T_d16b29ec_41a4_11ea_a01e_ad7c82ce902flevel0_row4\" class=\"row_heading level0 row4\" >Insulin</th>\n",
       "                        <td id=\"T_d16b29ec_41a4_11ea_a01e_ad7c82ce902frow4_col0\" class=\"data row4 col0\" >-0.0180823</td>\n",
       "                        <td id=\"T_d16b29ec_41a4_11ea_a01e_ad7c82ce902frow4_col1\" class=\"data row4 col1\" >0.396597</td>\n",
       "                        <td id=\"T_d16b29ec_41a4_11ea_a01e_ad7c82ce902frow4_col2\" class=\"data row4 col2\" >0.0109262</td>\n",
       "                        <td id=\"T_d16b29ec_41a4_11ea_a01e_ad7c82ce902frow4_col3\" class=\"data row4 col3\" >0.240361</td>\n",
       "                        <td id=\"T_d16b29ec_41a4_11ea_a01e_ad7c82ce902frow4_col4\" class=\"data row4 col4\" >1</td>\n",
       "                        <td id=\"T_d16b29ec_41a4_11ea_a01e_ad7c82ce902frow4_col5\" class=\"data row4 col5\" >0.189856</td>\n",
       "                        <td id=\"T_d16b29ec_41a4_11ea_a01e_ad7c82ce902frow4_col6\" class=\"data row4 col6\" >0.157806</td>\n",
       "                        <td id=\"T_d16b29ec_41a4_11ea_a01e_ad7c82ce902frow4_col7\" class=\"data row4 col7\" >0.0386522</td>\n",
       "                        <td id=\"T_d16b29ec_41a4_11ea_a01e_ad7c82ce902frow4_col8\" class=\"data row4 col8\" >0.179185</td>\n",
       "            </tr>\n",
       "            <tr>\n",
       "                        <th id=\"T_d16b29ec_41a4_11ea_a01e_ad7c82ce902flevel0_row5\" class=\"row_heading level0 row5\" >BMI</th>\n",
       "                        <td id=\"T_d16b29ec_41a4_11ea_a01e_ad7c82ce902frow5_col0\" class=\"data row5 col0\" >0.0215459</td>\n",
       "                        <td id=\"T_d16b29ec_41a4_11ea_a01e_ad7c82ce902frow5_col1\" class=\"data row5 col1\" >0.231478</td>\n",
       "                        <td id=\"T_d16b29ec_41a4_11ea_a01e_ad7c82ce902frow5_col2\" class=\"data row5 col2\" >0.281231</td>\n",
       "                        <td id=\"T_d16b29ec_41a4_11ea_a01e_ad7c82ce902frow5_col3\" class=\"data row5 col3\" >0.535703</td>\n",
       "                        <td id=\"T_d16b29ec_41a4_11ea_a01e_ad7c82ce902frow5_col4\" class=\"data row5 col4\" >0.189856</td>\n",
       "                        <td id=\"T_d16b29ec_41a4_11ea_a01e_ad7c82ce902frow5_col5\" class=\"data row5 col5\" >1</td>\n",
       "                        <td id=\"T_d16b29ec_41a4_11ea_a01e_ad7c82ce902frow5_col6\" class=\"data row5 col6\" >0.153508</td>\n",
       "                        <td id=\"T_d16b29ec_41a4_11ea_a01e_ad7c82ce902frow5_col7\" class=\"data row5 col7\" >0.0257481</td>\n",
       "                        <td id=\"T_d16b29ec_41a4_11ea_a01e_ad7c82ce902frow5_col8\" class=\"data row5 col8\" >0.312254</td>\n",
       "            </tr>\n",
       "            <tr>\n",
       "                        <th id=\"T_d16b29ec_41a4_11ea_a01e_ad7c82ce902flevel0_row6\" class=\"row_heading level0 row6\" >DiabetesPedigreeFunction</th>\n",
       "                        <td id=\"T_d16b29ec_41a4_11ea_a01e_ad7c82ce902frow6_col0\" class=\"data row6 col0\" >-0.0335227</td>\n",
       "                        <td id=\"T_d16b29ec_41a4_11ea_a01e_ad7c82ce902frow6_col1\" class=\"data row6 col1\" >0.137106</td>\n",
       "                        <td id=\"T_d16b29ec_41a4_11ea_a01e_ad7c82ce902frow6_col2\" class=\"data row6 col2\" >0.000371129</td>\n",
       "                        <td id=\"T_d16b29ec_41a4_11ea_a01e_ad7c82ce902frow6_col3\" class=\"data row6 col3\" >0.154961</td>\n",
       "                        <td id=\"T_d16b29ec_41a4_11ea_a01e_ad7c82ce902frow6_col4\" class=\"data row6 col4\" >0.157806</td>\n",
       "                        <td id=\"T_d16b29ec_41a4_11ea_a01e_ad7c82ce902frow6_col5\" class=\"data row6 col5\" >0.153508</td>\n",
       "                        <td id=\"T_d16b29ec_41a4_11ea_a01e_ad7c82ce902frow6_col6\" class=\"data row6 col6\" >1</td>\n",
       "                        <td id=\"T_d16b29ec_41a4_11ea_a01e_ad7c82ce902frow6_col7\" class=\"data row6 col7\" >0.0335613</td>\n",
       "                        <td id=\"T_d16b29ec_41a4_11ea_a01e_ad7c82ce902frow6_col8\" class=\"data row6 col8\" >0.173844</td>\n",
       "            </tr>\n",
       "            <tr>\n",
       "                        <th id=\"T_d16b29ec_41a4_11ea_a01e_ad7c82ce902flevel0_row7\" class=\"row_heading level0 row7\" >Age</th>\n",
       "                        <td id=\"T_d16b29ec_41a4_11ea_a01e_ad7c82ce902frow7_col0\" class=\"data row7 col0\" >0.544341</td>\n",
       "                        <td id=\"T_d16b29ec_41a4_11ea_a01e_ad7c82ce902frow7_col1\" class=\"data row7 col1\" >0.2666</td>\n",
       "                        <td id=\"T_d16b29ec_41a4_11ea_a01e_ad7c82ce902frow7_col2\" class=\"data row7 col2\" >0.32674</td>\n",
       "                        <td id=\"T_d16b29ec_41a4_11ea_a01e_ad7c82ce902frow7_col3\" class=\"data row7 col3\" >0.0264229</td>\n",
       "                        <td id=\"T_d16b29ec_41a4_11ea_a01e_ad7c82ce902frow7_col4\" class=\"data row7 col4\" >0.0386522</td>\n",
       "                        <td id=\"T_d16b29ec_41a4_11ea_a01e_ad7c82ce902frow7_col5\" class=\"data row7 col5\" >0.0257481</td>\n",
       "                        <td id=\"T_d16b29ec_41a4_11ea_a01e_ad7c82ce902frow7_col6\" class=\"data row7 col6\" >0.0335613</td>\n",
       "                        <td id=\"T_d16b29ec_41a4_11ea_a01e_ad7c82ce902frow7_col7\" class=\"data row7 col7\" >1</td>\n",
       "                        <td id=\"T_d16b29ec_41a4_11ea_a01e_ad7c82ce902frow7_col8\" class=\"data row7 col8\" >0.238356</td>\n",
       "            </tr>\n",
       "            <tr>\n",
       "                        <th id=\"T_d16b29ec_41a4_11ea_a01e_ad7c82ce902flevel0_row8\" class=\"row_heading level0 row8\" >Outcome</th>\n",
       "                        <td id=\"T_d16b29ec_41a4_11ea_a01e_ad7c82ce902frow8_col0\" class=\"data row8 col0\" >0.221898</td>\n",
       "                        <td id=\"T_d16b29ec_41a4_11ea_a01e_ad7c82ce902frow8_col1\" class=\"data row8 col1\" >0.492908</td>\n",
       "                        <td id=\"T_d16b29ec_41a4_11ea_a01e_ad7c82ce902frow8_col2\" class=\"data row8 col2\" >0.162986</td>\n",
       "                        <td id=\"T_d16b29ec_41a4_11ea_a01e_ad7c82ce902frow8_col3\" class=\"data row8 col3\" >0.175026</td>\n",
       "                        <td id=\"T_d16b29ec_41a4_11ea_a01e_ad7c82ce902frow8_col4\" class=\"data row8 col4\" >0.179185</td>\n",
       "                        <td id=\"T_d16b29ec_41a4_11ea_a01e_ad7c82ce902frow8_col5\" class=\"data row8 col5\" >0.312254</td>\n",
       "                        <td id=\"T_d16b29ec_41a4_11ea_a01e_ad7c82ce902frow8_col6\" class=\"data row8 col6\" >0.173844</td>\n",
       "                        <td id=\"T_d16b29ec_41a4_11ea_a01e_ad7c82ce902frow8_col7\" class=\"data row8 col7\" >0.238356</td>\n",
       "                        <td id=\"T_d16b29ec_41a4_11ea_a01e_ad7c82ce902frow8_col8\" class=\"data row8 col8\" >1</td>\n",
       "            </tr>\n",
       "    </tbody></table>"
      ],
      "text/plain": [
       "<pandas.io.formats.style.Styler at 0x1f7b1377c18>"
      ]
     },
     "execution_count": 103,
     "metadata": {},
     "output_type": "execute_result"
    }
   ],
   "source": [
    "# import seaborn as sns\n",
    "# # sns.heatmap(diabetes[diabetes.columns[:8]].corr(),annot=True,cmap='RdYlGn')\n",
    "# plt.figure(figsize=(10,11))  # on this line I just set the size of figure to 12 by 10.\n",
    "# p=sns.heatmap(diabetes.corr(), annot=True,cmap ='RdYlGn')\n",
    "# # plt.show()\n",
    "\n",
    "corr= diabetes.corr()\n",
    "corr.style.background_gradient(cmap='RdBu_r', axis=None)"
   ]
  },
  {
   "cell_type": "markdown",
   "metadata": {},
   "source": [
    "From this correlation map we can say that, no two features are corelated.So we cannot eliminate any features just by looking at the correlation matrix."
   ]
  },
  {
   "cell_type": "code",
   "execution_count": 104,
   "metadata": {
    "ExecuteTime": {
     "end_time": "2020-01-28T08:04:37.806488Z",
     "start_time": "2020-01-28T08:04:37.790315Z"
    }
   },
   "outputs": [],
   "source": [
    "from sklearn import svm\n",
    "from sklearn.svm import SVC\n",
    "from sklearn.neighbors  import KNeighborsClassifier\n",
    "from sklearn.tree import DecisionTreeClassifier\n",
    "from sklearn.ensemble import RandomForestClassifier\n",
    "from sklearn.ensemble import AdaBoostClassifier\n",
    "from sklearn.ensemble import GradientBoostingClassifier\n",
    "from sklearn.model_selection import train_test_split\n",
    "from sklearn.model_selection import KFold\n",
    "from sklearn import metrics"
   ]
  },
  {
   "cell_type": "code",
   "execution_count": 105,
   "metadata": {
    "ExecuteTime": {
     "end_time": "2020-01-28T08:04:38.450568Z",
     "start_time": "2020-01-28T08:04:38.422258Z"
    }
   },
   "outputs": [],
   "source": [
    "outcome=diabetes['Outcome']\n",
    "data=diabetes[diabetes.columns[:8]]\n",
    "train,test=train_test_split(diabetes,test_size=0.25,random_state=100,stratify=diabetes['Outcome'])# stratify the outcome\n",
    "train_X=train[train.columns[:8]]\n",
    "test_X=test[test.columns[:8]]\n",
    "train_Y=train['Outcome']\n",
    "test_Y=test['Outcome']"
   ]
  },
  {
   "cell_type": "code",
   "execution_count": 106,
   "metadata": {
    "ExecuteTime": {
     "end_time": "2020-01-28T08:04:44.093305Z",
     "start_time": "2020-01-28T08:04:38.859637Z"
    }
   },
   "outputs": [
    {
     "name": "stderr",
     "output_type": "stream",
     "text": [
      "C:\\Users\\sapph\\Anaconda3\\lib\\site-packages\\sklearn\\ensemble\\forest.py:245: FutureWarning: The default value of n_estimators will change from 10 in version 0.20 to 100 in 0.22.\n",
      "  \"10 in version 0.20 to 100 in 0.22.\", FutureWarning)\n"
     ]
    },
    {
     "data": {
      "text/html": [
       "<div>\n",
       "<style scoped>\n",
       "    .dataframe tbody tr th:only-of-type {\n",
       "        vertical-align: middle;\n",
       "    }\n",
       "\n",
       "    .dataframe tbody tr th {\n",
       "        vertical-align: top;\n",
       "    }\n",
       "\n",
       "    .dataframe thead th {\n",
       "        text-align: right;\n",
       "    }\n",
       "</style>\n",
       "<table border=\"1\" class=\"dataframe\">\n",
       "  <thead>\n",
       "    <tr style=\"text-align: right;\">\n",
       "      <th></th>\n",
       "      <th>Accuracy</th>\n",
       "      <th>Roc_auc</th>\n",
       "    </tr>\n",
       "  </thead>\n",
       "  <tbody>\n",
       "    <tr>\n",
       "      <th>Linear Svm</th>\n",
       "      <td>0.765625</td>\n",
       "      <td>0.748626</td>\n",
       "    </tr>\n",
       "    <tr>\n",
       "      <th>KNN</th>\n",
       "      <td>0.723958</td>\n",
       "      <td>0.694673</td>\n",
       "    </tr>\n",
       "    <tr>\n",
       "      <th>Decision Tree</th>\n",
       "      <td>0.661458</td>\n",
       "      <td>0.628321</td>\n",
       "    </tr>\n",
       "    <tr>\n",
       "      <th>Random forest</th>\n",
       "      <td>0.750000</td>\n",
       "      <td>0.726875</td>\n",
       "    </tr>\n",
       "    <tr>\n",
       "      <th>gbc</th>\n",
       "      <td>0.755208</td>\n",
       "      <td>0.730645</td>\n",
       "    </tr>\n",
       "    <tr>\n",
       "      <th>adaboost</th>\n",
       "      <td>0.760417</td>\n",
       "      <td>0.737479</td>\n",
       "    </tr>\n",
       "  </tbody>\n",
       "</table>\n",
       "</div>"
      ],
      "text/plain": [
       "               Accuracy   Roc_auc\n",
       "Linear Svm     0.765625  0.748626\n",
       "KNN            0.723958  0.694673\n",
       "Decision Tree  0.661458  0.628321\n",
       "Random forest  0.750000  0.726875\n",
       "gbc            0.755208  0.730645\n",
       "adaboost       0.760417  0.737479"
      ]
     },
     "execution_count": 106,
     "metadata": {},
     "output_type": "execute_result"
    }
   ],
   "source": [
    "abc=[]\n",
    "roc=[]\n",
    "classifiers=['Linear Svm','KNN','Decision Tree', 'Random forest', 'gbc', 'adaboost']\n",
    "models=[svm.SVC(kernel='linear'),KNeighborsClassifier(), DecisionTreeClassifier(random_state=0), RandomForestClassifier(random_state=0), GradientBoostingClassifier(random_state= 0), AdaBoostClassifier(random_state=0)]\n",
    "for i in models:\n",
    "    model = i\n",
    "    model.fit(train_X,train_Y)\n",
    "    prediction=model.predict(test_X)\n",
    "    abc.append(metrics.accuracy_score(prediction,test_Y))\n",
    "    roc.append(metrics.roc_auc_score(prediction,test_Y))\n",
    "models_df=pd.DataFrame(abc,index=classifiers)   \n",
    "models_df.columns=['Accuracy' ]\n",
    "models_df['Roc_auc']= roc\n",
    "models_df"
   ]
  },
  {
   "cell_type": "markdown",
   "metadata": {},
   "source": [
    "#### The above algorithms are not giving a very high accuracy. This can be improved by:\n",
    "* Using Feature Selection and using only relevant features. we can Standardize the dataset based on this four important feature.\n",
    "\n",
    "* KNN and Ensemble model optimization"
   ]
  },
  {
   "cell_type": "code",
   "execution_count": 107,
   "metadata": {
    "ExecuteTime": {
     "end_time": "2020-01-28T08:04:49.007115Z",
     "start_time": "2020-01-28T08:04:48.354149Z"
    }
   },
   "outputs": [
    {
     "name": "stderr",
     "output_type": "stream",
     "text": [
      "C:\\Users\\sapph\\Anaconda3\\lib\\site-packages\\sklearn\\ensemble\\forest.py:245: FutureWarning: The default value of n_estimators will change from 10 in version 0.20 to 100 in 0.22.\n",
      "  \"10 in version 0.20 to 100 in 0.22.\", FutureWarning)\n"
     ]
    },
    {
     "name": "stdout",
     "output_type": "stream",
     "text": [
      "Glucose                     0.254636\n",
      "BMI                         0.146041\n",
      "Age                         0.128070\n",
      "DiabetesPedigreeFunction    0.126335\n",
      "BloodPressure               0.097418\n",
      "Pregnancies                 0.087117\n",
      "Insulin                     0.083179\n",
      "SkinThickness               0.077204\n",
      "dtype: float64\n",
      "DecisionTree Feature ranking:\n"
     ]
    },
    {
     "data": {
      "image/png": "[encoded data removed]",
      "text/plain": [
       "<Figure size 1080x360 with 1 Axes>"
      ]
     },
     "metadata": {
      "needs_background": "light"
     },
     "output_type": "display_data"
    }
   ],
   "source": [
    "from sklearn.ensemble import RandomForestClassifier \n",
    "model= RandomForestClassifier(random_state=0)\n",
    "X=diabetes[diabetes.columns[:8]]\n",
    "Y=diabetes['Outcome']\n",
    "feat_names= diabetes.columns[:8]\n",
    "model.fit(X,Y)\n",
    "print(pd.Series(model.feature_importances_,index=X.columns).sort_values(ascending=False))\n",
    "\n",
    "#Feature Importance\n",
    "importance = model.feature_importances_\n",
    "indices = np.argsort(importance)[::-1]\n",
    "print(\"DecisionTree Feature ranking:\")\n",
    "plt.figure(figsize=(15,5))\n",
    "plt.title(\"DecisionTree Feature importances\")\n",
    "plt.bar(range(X.shape[1]), importance[indices], color=\"green\", align=\"center\")\n",
    "plt.xticks(range(X.shape[1]), feat_names[indices])\n",
    "plt.xlim([-1, X.shape[1]])\n",
    "plt.savefig(\"feature importance.png\")\n",
    "plt.show()"
   ]
  },
  {
   "cell_type": "markdown",
   "metadata": {},
   "source": [
    "# Optimizing KNN"
   ]
  },
  {
   "cell_type": "code",
   "execution_count": 108,
   "metadata": {
    "ExecuteTime": {
     "end_time": "2020-01-28T08:04:50.920558Z",
     "start_time": "2020-01-28T08:04:50.445598Z"
    }
   },
   "outputs": [
    {
     "data": {
      "image/png": "[encoded data removed]",
      "text/plain": [
       "<Figure size 432x288 with 1 Axes>"
      ]
     },
     "metadata": {
      "needs_background": "light"
     },
     "output_type": "display_data"
    },
    {
     "name": "stdout",
     "output_type": "stream",
     "text": [
      "Accuracies for different values of n are: [0.65184147 0.75928144 0.72687459 0.77047655 0.69467319 0.72467614\n",
      " 0.67591241 0.73065111 0.75235567]\n"
     ]
    }
   ],
   "source": [
    "a_index=list(range(1,10))\n",
    "a=pd.Series()\n",
    "x=[0,1,2,3,4,5,6,7,8,9,10]\n",
    "for i in list(range(1,10)):\n",
    "    model=KNeighborsClassifier(n_neighbors=i) \n",
    "    model.fit(train_X,train_Y)\n",
    "    prediction=model.predict(test_X)\n",
    "    a=a.append(pd.Series(metrics.roc_auc_score(prediction,test_Y)))\n",
    "plt.plot(a_index, a)\n",
    "plt.xticks(x)\n",
    "plt.show()\n",
    "print('Accuracies for different values of n are:',a.values)"
   ]
  },
  {
   "cell_type": "markdown",
   "metadata": {
    "ExecuteTime": {
     "end_time": "2020-01-27T07:44:07.816327Z",
     "start_time": "2020-01-27T07:44:07.813337Z"
    }
   },
   "source": [
    "# Standardisation"
   ]
  },
  {
   "cell_type": "code",
   "execution_count": 109,
   "metadata": {
    "ExecuteTime": {
     "end_time": "2020-01-28T08:04:55.730079Z",
     "start_time": "2020-01-28T08:04:55.629932Z"
    }
   },
   "outputs": [],
   "source": [
    "diabetes_std=diabetes[['Glucose','BMI','Age','DiabetesPedigreeFunction','Outcome']]\n",
    "\n",
    " #Standardisation\n",
    "from sklearn.preprocessing import StandardScaler\n",
    "features=diabetes_std[diabetes_std.columns[:4]]\n",
    "\n",
    "# Gaussian Standardisation\n",
    "features_standard=StandardScaler().fit_transform(features)\n",
    "std_data=pd.DataFrame(features_standard,columns=[['Glucose','BMI','Age','DiabetesPedigreeFunction']])\n",
    "std_data['Outcome']=diabetes_std['Outcome']\n",
    "# outcome=std_data['Outcome']\n",
    "train1,test1=train_test_split(std_data,test_size=0.25,random_state=0,stratify=std_data['Outcome'])\n",
    "train_X1=train1[train1.columns[:4]]\n",
    "test_X1=test1[test1.columns[:4]]\n",
    "train_Y1=train1['Outcome']\n",
    "test_Y1=test1['Outcome']"
   ]
  },
  {
   "cell_type": "code",
   "execution_count": 110,
   "metadata": {
    "ExecuteTime": {
     "end_time": "2020-01-28T08:04:56.751467Z",
     "start_time": "2020-01-28T08:04:56.106074Z"
    }
   },
   "outputs": [
    {
     "name": "stderr",
     "output_type": "stream",
     "text": [
      "C:\\Users\\sapph\\Anaconda3\\lib\\site-packages\\sklearn\\utils\\validation.py:724: DataConversionWarning: A column-vector y was passed when a 1d array was expected. Please change the shape of y to (n_samples, ), for example using ravel().\n",
      "  y = column_or_1d(y, warn=True)\n",
      "C:\\Users\\sapph\\Anaconda3\\lib\\site-packages\\ipykernel_launcher.py:7: DataConversionWarning: A column-vector y was passed when a 1d array was expected. Please change the shape of y to (n_samples, ), for example using ravel().\n",
      "  import sys\n",
      "C:\\Users\\sapph\\Anaconda3\\lib\\site-packages\\sklearn\\ensemble\\forest.py:245: FutureWarning: The default value of n_estimators will change from 10 in version 0.20 to 100 in 0.22.\n",
      "  \"10 in version 0.20 to 100 in 0.22.\", FutureWarning)\n",
      "C:\\Users\\sapph\\Anaconda3\\lib\\site-packages\\ipykernel_launcher.py:7: DataConversionWarning: A column-vector y was passed when a 1d array was expected. Please change the shape of y to (n_samples,), for example using ravel().\n",
      "  import sys\n",
      "C:\\Users\\sapph\\Anaconda3\\lib\\site-packages\\sklearn\\ensemble\\gradient_boosting.py:1450: DataConversionWarning: A column-vector y was passed when a 1d array was expected. Please change the shape of y to (n_samples, ), for example using ravel().\n",
      "  y = column_or_1d(y, warn=True)\n",
      "C:\\Users\\sapph\\Anaconda3\\lib\\site-packages\\sklearn\\utils\\validation.py:724: DataConversionWarning: A column-vector y was passed when a 1d array was expected. Please change the shape of y to (n_samples, ), for example using ravel().\n",
      "  y = column_or_1d(y, warn=True)\n"
     ]
    },
    {
     "data": {
      "text/html": [
       "<div>\n",
       "<style scoped>\n",
       "    .dataframe tbody tr th:only-of-type {\n",
       "        vertical-align: middle;\n",
       "    }\n",
       "\n",
       "    .dataframe tbody tr th {\n",
       "        vertical-align: top;\n",
       "    }\n",
       "\n",
       "    .dataframe thead th {\n",
       "        text-align: right;\n",
       "    }\n",
       "</style>\n",
       "<table border=\"1\" class=\"dataframe\">\n",
       "  <thead>\n",
       "    <tr style=\"text-align: right;\">\n",
       "      <th></th>\n",
       "      <th>New Accuracy</th>\n",
       "      <th>New_roc</th>\n",
       "    </tr>\n",
       "  </thead>\n",
       "  <tbody>\n",
       "    <tr>\n",
       "      <th>Linear Svm</th>\n",
       "      <td>0.776042</td>\n",
       "      <td>0.759662</td>\n",
       "    </tr>\n",
       "    <tr>\n",
       "      <th>KNN</th>\n",
       "      <td>0.729167</td>\n",
       "      <td>0.712324</td>\n",
       "    </tr>\n",
       "    <tr>\n",
       "      <th>Decision Tree</th>\n",
       "      <td>0.708333</td>\n",
       "      <td>0.677372</td>\n",
       "    </tr>\n",
       "    <tr>\n",
       "      <th>Random forest</th>\n",
       "      <td>0.807292</td>\n",
       "      <td>0.798309</td>\n",
       "    </tr>\n",
       "    <tr>\n",
       "      <th>gbc</th>\n",
       "      <td>0.765625</td>\n",
       "      <td>0.744081</td>\n",
       "    </tr>\n",
       "    <tr>\n",
       "      <th>adaboost</th>\n",
       "      <td>0.781250</td>\n",
       "      <td>0.761947</td>\n",
       "    </tr>\n",
       "  </tbody>\n",
       "</table>\n",
       "</div>"
      ],
      "text/plain": [
       "               New Accuracy   New_roc\n",
       "Linear Svm         0.776042  0.759662\n",
       "KNN                0.729167  0.712324\n",
       "Decision Tree      0.708333  0.677372\n",
       "Random forest      0.807292  0.798309\n",
       "gbc                0.765625  0.744081\n",
       "adaboost           0.781250  0.761947"
      ]
     },
     "execution_count": 110,
     "metadata": {},
     "output_type": "execute_result"
    }
   ],
   "source": [
    "abc=[]\n",
    "roc=[]\n",
    "classifiers=['Linear Svm','KNN','Decision Tree', 'Random forest', 'gbc', 'adaboost']\n",
    "models=[svm.SVC(kernel='linear'),KNeighborsClassifier(n_neighbors=4), DecisionTreeClassifier(random_state=0), RandomForestClassifier(random_state=0), GradientBoostingClassifier(random_state= 0), AdaBoostClassifier(random_state=0)]\n",
    "for i in models:\n",
    "    model = i\n",
    "    model.fit(train_X1,train_Y1)\n",
    "    prediction=model.predict(test_X1)\n",
    "    abc.append(metrics.accuracy_score(prediction,test_Y1))\n",
    "    roc.append(metrics.roc_auc_score(prediction,test_Y1))\n",
    "new_models_df=pd.DataFrame(abc,index=classifiers)   \n",
    "new_models_df.columns=['New Accuracy']\n",
    "new_models_df['New_roc']= roc\n",
    "new_models_df"
   ]
  },
  {
   "cell_type": "code",
   "execution_count": 111,
   "metadata": {
    "ExecuteTime": {
     "end_time": "2020-01-28T08:05:01.405514Z",
     "start_time": "2020-01-28T08:05:01.340290Z"
    }
   },
   "outputs": [
    {
     "data": {
      "text/html": [
       "<div>\n",
       "<style scoped>\n",
       "    .dataframe tbody tr th:only-of-type {\n",
       "        vertical-align: middle;\n",
       "    }\n",
       "\n",
       "    .dataframe tbody tr th {\n",
       "        vertical-align: top;\n",
       "    }\n",
       "\n",
       "    .dataframe thead th {\n",
       "        text-align: right;\n",
       "    }\n",
       "</style>\n",
       "<table border=\"1\" class=\"dataframe\">\n",
       "  <thead>\n",
       "    <tr style=\"text-align: right;\">\n",
       "      <th></th>\n",
       "      <th>New Accuracy</th>\n",
       "      <th>New_roc</th>\n",
       "      <th>Accuracy</th>\n",
       "      <th>Roc_auc</th>\n",
       "      <th>Increase_auc</th>\n",
       "      <th>Increase_roc</th>\n",
       "    </tr>\n",
       "  </thead>\n",
       "  <tbody>\n",
       "    <tr>\n",
       "      <th>Linear Svm</th>\n",
       "      <td>0.776042</td>\n",
       "      <td>0.759662</td>\n",
       "      <td>0.765625</td>\n",
       "      <td>0.748626</td>\n",
       "      <td>0.010417</td>\n",
       "      <td>0.011035</td>\n",
       "    </tr>\n",
       "    <tr>\n",
       "      <th>KNN</th>\n",
       "      <td>0.729167</td>\n",
       "      <td>0.712324</td>\n",
       "      <td>0.723958</td>\n",
       "      <td>0.694673</td>\n",
       "      <td>0.005208</td>\n",
       "      <td>0.017651</td>\n",
       "    </tr>\n",
       "    <tr>\n",
       "      <th>Decision Tree</th>\n",
       "      <td>0.708333</td>\n",
       "      <td>0.677372</td>\n",
       "      <td>0.661458</td>\n",
       "      <td>0.628321</td>\n",
       "      <td>0.046875</td>\n",
       "      <td>0.049051</td>\n",
       "    </tr>\n",
       "    <tr>\n",
       "      <th>Random forest</th>\n",
       "      <td>0.807292</td>\n",
       "      <td>0.798309</td>\n",
       "      <td>0.750000</td>\n",
       "      <td>0.726875</td>\n",
       "      <td>0.057292</td>\n",
       "      <td>0.071435</td>\n",
       "    </tr>\n",
       "    <tr>\n",
       "      <th>gbc</th>\n",
       "      <td>0.765625</td>\n",
       "      <td>0.744081</td>\n",
       "      <td>0.755208</td>\n",
       "      <td>0.730645</td>\n",
       "      <td>0.010417</td>\n",
       "      <td>0.013436</td>\n",
       "    </tr>\n",
       "    <tr>\n",
       "      <th>adaboost</th>\n",
       "      <td>0.781250</td>\n",
       "      <td>0.761947</td>\n",
       "      <td>0.760417</td>\n",
       "      <td>0.737479</td>\n",
       "      <td>0.020833</td>\n",
       "      <td>0.024468</td>\n",
       "    </tr>\n",
       "  </tbody>\n",
       "</table>\n",
       "</div>"
      ],
      "text/plain": [
       "               New Accuracy   New_roc  Accuracy   Roc_auc  Increase_auc  \\\n",
       "Linear Svm         0.776042  0.759662  0.765625  0.748626      0.010417   \n",
       "KNN                0.729167  0.712324  0.723958  0.694673      0.005208   \n",
       "Decision Tree      0.708333  0.677372  0.661458  0.628321      0.046875   \n",
       "Random forest      0.807292  0.798309  0.750000  0.726875      0.057292   \n",
       "gbc                0.765625  0.744081  0.755208  0.730645      0.010417   \n",
       "adaboost           0.781250  0.761947  0.760417  0.737479      0.020833   \n",
       "\n",
       "               Increase_roc  \n",
       "Linear Svm         0.011035  \n",
       "KNN                0.017651  \n",
       "Decision Tree      0.049051  \n",
       "Random forest      0.071435  \n",
       "gbc                0.013436  \n",
       "adaboost           0.024468  "
      ]
     },
     "execution_count": 111,
     "metadata": {},
     "output_type": "execute_result"
    }
   ],
   "source": [
    "new_models_df=new_models_df.merge(models_df,left_index=True,right_index=True,how='left')\n",
    "new_models_df['Increase_auc']=new_models_df['New Accuracy']-new_models_df['Accuracy']\n",
    "new_models_df['Increase_roc']=new_models_df['New_roc']-new_models_df['Roc_auc']\n",
    "new_models_df\n",
    "new_models_df"
   ]
  },
  {
   "cell_type": "markdown",
   "metadata": {},
   "source": [
    "##### Result: After Standardisation, we can see there is a increase of ~6% in accuracy and ~7% increase in AUC in Random forest classifier."
   ]
  },
  {
   "cell_type": "markdown",
   "metadata": {},
   "source": [
    "# Final Ensemble model"
   ]
  },
  {
   "cell_type": "code",
   "execution_count": 112,
   "metadata": {
    "ExecuteTime": {
     "end_time": "2020-01-28T08:05:08.924473Z",
     "start_time": "2020-01-28T08:05:08.794652Z"
    }
   },
   "outputs": [
    {
     "name": "stdout",
     "output_type": "stream",
     "text": [
      "Accuracy is 0.8072916666666666\n",
      "Roc_auc is 0.7983091787439612\n"
     ]
    },
    {
     "name": "stderr",
     "output_type": "stream",
     "text": [
      "C:\\Users\\sapph\\Anaconda3\\lib\\site-packages\\sklearn\\ensemble\\forest.py:245: FutureWarning: The default value of n_estimators will change from 10 in version 0.20 to 100 in 0.22.\n",
      "  \"10 in version 0.20 to 100 in 0.22.\", FutureWarning)\n",
      "C:\\Users\\sapph\\Anaconda3\\lib\\site-packages\\ipykernel_launcher.py:3: DataConversionWarning: A column-vector y was passed when a 1d array was expected. Please change the shape of y to (n_samples,), for example using ravel().\n",
      "  This is separate from the ipykernel package so we can avoid doing imports until\n"
     ]
    }
   ],
   "source": [
    "\n",
    "rfc= RandomForestClassifier(random_state=0)\n",
    "clf_ = rfc.fit(train_X1,train_Y1)\n",
    "y_pred = clf_.predict(test_X1)\n",
    "print('Accuracy is {}'.format(metrics.accuracy_score(y_pred, test_Y1)))\n",
    "print('Roc_auc is {}'.format(metrics.roc_auc_score(y_pred, test_Y1 )))\n",
    "# y_pred_proba = rfc.predict_proba(test_X1)[:,1]\n",
    "\n"
   ]
  },
  {
   "cell_type": "code",
   "execution_count": 118,
   "metadata": {
    "ExecuteTime": {
     "end_time": "2020-01-28T08:08:52.979168Z",
     "start_time": "2020-01-28T08:08:52.968238Z"
    }
   },
   "outputs": [
    {
     "data": {
      "text/plain": [
       "array([[113,  25],\n",
       "       [ 12,  42]], dtype=int64)"
      ]
     },
     "execution_count": 118,
     "metadata": {},
     "output_type": "execute_result"
    }
   ],
   "source": [
    "from sklearn.metrics import confusion_matrix\n",
    "con_matrix= metrics.confusion_matrix(y_pred, test_Y1)\n",
    "con_matrix"
   ]
  },
  {
   "cell_type": "code",
   "execution_count": 232,
   "metadata": {
    "ExecuteTime": {
     "end_time": "2020-01-27T18:52:34.904453Z",
     "start_time": "2020-01-27T18:52:34.668801Z"
    }
   },
   "outputs": [
    {
     "data": {
      "image/png": "[encoded data removed]",
      "text/plain": [
       "<Figure size 432x288 with 1 Axes>"
      ]
     },
     "metadata": {
      "needs_background": "light"
     },
     "output_type": "display_data"
    }
   ],
   "source": [
    "fpr, tpr, thresholds= metrics.roc_curve(y_pred, test_Y1)\n",
    "plt.figure()\n",
    "# plt.plot(, )\n",
    "plt.plot([0,1],[0,1],'k--')\n",
    "plt.plot(fpr,tpr, label='RandonForestClassifier')\n",
    "plt.xlabel('False positive')\n",
    "plt.ylabel('True positive')\n",
    "plt.title('RandonforestClassifier ROC curve')\n",
    "plt.savefig('ROC curve.png')\n",
    "plt.show()"
   ]
  },
  {
   "cell_type": "markdown",
   "metadata": {
    "ExecuteTime": {
     "end_time": "2020-01-27T08:12:27.113054Z",
     "start_time": "2020-01-27T08:12:26.250205Z"
    }
   },
   "source": [
    "## Conclusion: After analysing and using different ensemble model, we can predict whether the patients is  diabetic or not with an accuracy of 80.7% and with an AUC of 79.83%"
   ]
  },
  {
   "cell_type": "code",
   "execution_count": null,
   "metadata": {},
   "outputs": [],
   "source": []
  }
 ],
 "metadata": {
  "kernelspec": {
   "display_name": "Python 3",
   "language": "python",
   "name": "python3"
  },
  "language_info": {
   "codemirror_mode": {
    "name": "ipython",
    "version": 3
   },
   "file_extension": ".py",
   "mimetype": "text/x-python",
   "name": "python",
   "nbconvert_exporter": "python",
   "pygments_lexer": "ipython3",
   "version": "3.7.0"
  }
 },
 "nbformat": 4,
 "nbformat_minor": 2
}
