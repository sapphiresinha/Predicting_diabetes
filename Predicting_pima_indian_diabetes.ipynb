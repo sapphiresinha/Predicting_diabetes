{
 "cells": [
  {
   "cell_type": "code",
   "execution_count": 6,
   "metadata": {
    "ExecuteTime": {
     "end_time": "2020-01-26T23:07:47.320455Z",
     "start_time": "2020-01-26T23:07:47.312466Z"
    }
   },
   "outputs": [],
   "source": [
    "from scipy import optimize\n",
    "import pandas as pd\n",
    "import numpy as np\n",
    "from sklearn.model_selection import train_test_split\n",
    "from sklearn import metrics\n",
    "from sklearn.tree import DecisionTreeClassifier\n",
    "import matplotlib.pyplot as plt\n",
    "%matplotlib inline\n"
   ]
  },
  {
   "cell_type": "code",
   "execution_count": 39,
   "metadata": {
    "ExecuteTime": {
     "end_time": "2020-01-26T23:48:57.568639Z",
     "start_time": "2020-01-26T23:48:57.548703Z"
    }
   },
   "outputs": [
    {
     "name": "stdout",
     "output_type": "stream",
     "text": [
      "   Pregnancies  Glucose  BloodPressure  SkinThickness  Insulin   BMI  \\\n",
      "0            6      148             72             35        0  33.6   \n",
      "1            1       85             66             29        0  26.6   \n",
      "2            8      183             64              0        0  23.3   \n",
      "3            1       89             66             23       94  28.1   \n",
      "4            0      137             40             35      168  43.1   \n",
      "\n",
      "   DiabetesPedigreeFunction  Age  Outcome  \n",
      "0                     0.627   50        1  \n",
      "1                     0.351   31        0  \n",
      "2                     0.672   32        1  \n",
      "3                     0.167   21        0  \n",
      "4                     2.288   33        1  \n"
     ]
    }
   ],
   "source": [
    "#step1 read the filein csv format\n",
    "diabetes = pd.read_csv(\"C:/Users/sapph/Desktop/capston_project/diabetes.csv\", header = 0, sep = ',' ,index_col = None)\n",
    "print (diabetes.head(5))"
   ]
  },
  {
   "cell_type": "code",
   "execution_count": 40,
   "metadata": {
    "ExecuteTime": {
     "end_time": "2020-01-26T23:48:57.960993Z",
     "start_time": "2020-01-26T23:48:57.889120Z"
    }
   },
   "outputs": [
    {
     "name": "stdout",
     "output_type": "stream",
     "text": [
      "<class 'pandas.core.frame.DataFrame'>\n",
      "RangeIndex: 768 entries, 0 to 767\n",
      "Data columns (total 9 columns):\n",
      "Pregnancies                 768 non-null int64\n",
      "Glucose                     768 non-null int64\n",
      "BloodPressure               768 non-null int64\n",
      "SkinThickness               768 non-null int64\n",
      "Insulin                     768 non-null int64\n",
      "BMI                         768 non-null float64\n",
      "DiabetesPedigreeFunction    768 non-null float64\n",
      "Age                         768 non-null int64\n",
      "Outcome                     768 non-null int64\n",
      "dtypes: float64(2), int64(7)\n",
      "memory usage: 54.1 KB\n",
      "None\n"
     ]
    },
    {
     "data": {
      "text/html": [
       "<div>\n",
       "<style scoped>\n",
       "    .dataframe tbody tr th:only-of-type {\n",
       "        vertical-align: middle;\n",
       "    }\n",
       "\n",
       "    .dataframe tbody tr th {\n",
       "        vertical-align: top;\n",
       "    }\n",
       "\n",
       "    .dataframe thead th {\n",
       "        text-align: right;\n",
       "    }\n",
       "</style>\n",
       "<table border=\"1\" class=\"dataframe\">\n",
       "  <thead>\n",
       "    <tr style=\"text-align: right;\">\n",
       "      <th></th>\n",
       "      <th>Pregnancies</th>\n",
       "      <th>Glucose</th>\n",
       "      <th>BloodPressure</th>\n",
       "      <th>SkinThickness</th>\n",
       "      <th>Insulin</th>\n",
       "      <th>BMI</th>\n",
       "      <th>DiabetesPedigreeFunction</th>\n",
       "      <th>Age</th>\n",
       "      <th>Outcome</th>\n",
       "    </tr>\n",
       "  </thead>\n",
       "  <tbody>\n",
       "    <tr>\n",
       "      <th>count</th>\n",
       "      <td>768.000000</td>\n",
       "      <td>768.000000</td>\n",
       "      <td>768.000000</td>\n",
       "      <td>768.000000</td>\n",
       "      <td>768.000000</td>\n",
       "      <td>768.000000</td>\n",
       "      <td>768.000000</td>\n",
       "      <td>768.000000</td>\n",
       "      <td>768.000000</td>\n",
       "    </tr>\n",
       "    <tr>\n",
       "      <th>mean</th>\n",
       "      <td>3.845052</td>\n",
       "      <td>120.894531</td>\n",
       "      <td>69.105469</td>\n",
       "      <td>20.536458</td>\n",
       "      <td>79.799479</td>\n",
       "      <td>31.992578</td>\n",
       "      <td>0.471876</td>\n",
       "      <td>33.240885</td>\n",
       "      <td>0.348958</td>\n",
       "    </tr>\n",
       "    <tr>\n",
       "      <th>std</th>\n",
       "      <td>3.369578</td>\n",
       "      <td>31.972618</td>\n",
       "      <td>19.355807</td>\n",
       "      <td>15.952218</td>\n",
       "      <td>115.244002</td>\n",
       "      <td>7.884160</td>\n",
       "      <td>0.331329</td>\n",
       "      <td>11.760232</td>\n",
       "      <td>0.476951</td>\n",
       "    </tr>\n",
       "    <tr>\n",
       "      <th>min</th>\n",
       "      <td>0.000000</td>\n",
       "      <td>0.000000</td>\n",
       "      <td>0.000000</td>\n",
       "      <td>0.000000</td>\n",
       "      <td>0.000000</td>\n",
       "      <td>0.000000</td>\n",
       "      <td>0.078000</td>\n",
       "      <td>21.000000</td>\n",
       "      <td>0.000000</td>\n",
       "    </tr>\n",
       "    <tr>\n",
       "      <th>25%</th>\n",
       "      <td>1.000000</td>\n",
       "      <td>99.000000</td>\n",
       "      <td>62.000000</td>\n",
       "      <td>0.000000</td>\n",
       "      <td>0.000000</td>\n",
       "      <td>27.300000</td>\n",
       "      <td>0.243750</td>\n",
       "      <td>24.000000</td>\n",
       "      <td>0.000000</td>\n",
       "    </tr>\n",
       "    <tr>\n",
       "      <th>50%</th>\n",
       "      <td>3.000000</td>\n",
       "      <td>117.000000</td>\n",
       "      <td>72.000000</td>\n",
       "      <td>23.000000</td>\n",
       "      <td>30.500000</td>\n",
       "      <td>32.000000</td>\n",
       "      <td>0.372500</td>\n",
       "      <td>29.000000</td>\n",
       "      <td>0.000000</td>\n",
       "    </tr>\n",
       "    <tr>\n",
       "      <th>75%</th>\n",
       "      <td>6.000000</td>\n",
       "      <td>140.250000</td>\n",
       "      <td>80.000000</td>\n",
       "      <td>32.000000</td>\n",
       "      <td>127.250000</td>\n",
       "      <td>36.600000</td>\n",
       "      <td>0.626250</td>\n",
       "      <td>41.000000</td>\n",
       "      <td>1.000000</td>\n",
       "    </tr>\n",
       "    <tr>\n",
       "      <th>max</th>\n",
       "      <td>17.000000</td>\n",
       "      <td>199.000000</td>\n",
       "      <td>122.000000</td>\n",
       "      <td>99.000000</td>\n",
       "      <td>846.000000</td>\n",
       "      <td>67.100000</td>\n",
       "      <td>2.420000</td>\n",
       "      <td>81.000000</td>\n",
       "      <td>1.000000</td>\n",
       "    </tr>\n",
       "  </tbody>\n",
       "</table>\n",
       "</div>"
      ],
      "text/plain": [
       "       Pregnancies     Glucose  BloodPressure  SkinThickness     Insulin  \\\n",
       "count   768.000000  768.000000     768.000000     768.000000  768.000000   \n",
       "mean      3.845052  120.894531      69.105469      20.536458   79.799479   \n",
       "std       3.369578   31.972618      19.355807      15.952218  115.244002   \n",
       "min       0.000000    0.000000       0.000000       0.000000    0.000000   \n",
       "25%       1.000000   99.000000      62.000000       0.000000    0.000000   \n",
       "50%       3.000000  117.000000      72.000000      23.000000   30.500000   \n",
       "75%       6.000000  140.250000      80.000000      32.000000  127.250000   \n",
       "max      17.000000  199.000000     122.000000      99.000000  846.000000   \n",
       "\n",
       "              BMI  DiabetesPedigreeFunction         Age     Outcome  \n",
       "count  768.000000                768.000000  768.000000  768.000000  \n",
       "mean    31.992578                  0.471876   33.240885    0.348958  \n",
       "std      7.884160                  0.331329   11.760232    0.476951  \n",
       "min      0.000000                  0.078000   21.000000    0.000000  \n",
       "25%     27.300000                  0.243750   24.000000    0.000000  \n",
       "50%     32.000000                  0.372500   29.000000    0.000000  \n",
       "75%     36.600000                  0.626250   41.000000    1.000000  \n",
       "max     67.100000                  2.420000   81.000000    1.000000  "
      ]
     },
     "execution_count": 40,
     "metadata": {},
     "output_type": "execute_result"
    }
   ],
   "source": [
    "# Basic EDA of the Dataset.\n",
    "print(diabetes.info(verbose=True))\n",
    "diabetes.describe()"
   ]
  },
  {
   "cell_type": "markdown",
   "metadata": {},
   "source": [
    "From above describe method, we analyse that the min value is zero for more than one columns which means on these columns other than(pregnancies, outcome), a value of zero does not make sense and thus indicates missing value.\n",
    "\n",
    "Following columns or variables have an invalid zero value:\n",
    "\n",
    "Glucose  \n",
    "BloodPressure  \n",
    "SkinThickness  \n",
    "Insulin  \n",
    "BMI  "
   ]
  },
  {
   "cell_type": "code",
   "execution_count": 42,
   "metadata": {
    "ExecuteTime": {
     "end_time": "2020-01-26T23:49:05.327929Z",
     "start_time": "2020-01-26T23:49:05.307955Z"
    }
   },
   "outputs": [
    {
     "name": "stdout",
     "output_type": "stream",
     "text": [
      "Pregnancies                 111\n",
      "Glucose                       5\n",
      "BloodPressure                35\n",
      "SkinThickness               227\n",
      "Insulin                     374\n",
      "BMI                          11\n",
      "DiabetesPedigreeFunction      0\n",
      "Age                           0\n",
      "Outcome                     500\n",
      "dtype: int64\n"
     ]
    }
   ],
   "source": [
    "print(diabetes[diabetes == 0].count())\n",
    "# print(diabetes[diabetes['Glucose'] == 0])"
   ]
  },
  {
   "cell_type": "code",
   "execution_count": 43,
   "metadata": {
    "ExecuteTime": {
     "end_time": "2020-01-26T23:49:10.211296Z",
     "start_time": "2020-01-26T23:49:10.183336Z"
    }
   },
   "outputs": [],
   "source": [
    "#step3 clean the data - Aiming to impute 0 values for the columns(Glucose, BloodPressure, SkinThickness, Insulin, BMI) \n",
    "#with mean for each class\n",
    "\n",
    "diabetes['Glucose']= diabetes['Glucose'].replace(0, diabetes['Glucose'].mean())\n",
    "diabetes['BloodPressure']= diabetes['BloodPressure'].replace(0, diabetes['BloodPressure'].mean())\n",
    "diabetes['SkinThickness']= diabetes['SkinThickness'].replace(0, diabetes['SkinThickness'].mean())\n",
    "diabetes['Insulin']= diabetes['Insulin'].replace(0, diabetes['Insulin'].mean())\n",
    "diabetes['BMI']= diabetes['BMI'].replace(0, diabetes['BMI'].mean())"
   ]
  },
  {
   "cell_type": "code",
   "execution_count": 45,
   "metadata": {
    "ExecuteTime": {
     "end_time": "2020-01-26T23:51:27.098585Z",
     "start_time": "2020-01-26T23:51:25.608572Z"
    }
   },
   "outputs": [
    {
     "data": {
      "image/png": "[encoded data removed]",
      "text/plain": [
       "<Figure size 720x720 with 9 Axes>"
      ]
     },
     "metadata": {
      "needs_background": "light"
     },
     "output_type": "display_data"
    }
   ],
   "source": [
    "# histogram plotting after replacing zeros or missing values\n",
    "hist_1 = diabetes.hist(figsize=(10,10))"
   ]
  },
  {
   "cell_type": "code",
   "execution_count": 55,
   "metadata": {
    "ExecuteTime": {
     "end_time": "2020-01-26T23:56:21.934299Z",
     "start_time": "2020-01-26T23:56:21.794457Z"
    }
   },
   "outputs": [
    {
     "data": {
      "image/png": "[encoded data removed]",
      "text/plain": [
       "<Figure size 432x288 with 1 Axes>"
      ]
     },
     "metadata": {
      "needs_background": "light"
     },
     "output_type": "display_data"
    }
   ],
   "source": [
    "import seaborn as sns\n",
    "sns.countplot(x='Outcome',data=diabetes)\n",
    "plt.show()"
   ]
  },
  {
   "cell_type": "markdown",
   "metadata": {},
   "source": [
    "### The pairs plot builds on two basic figures, the histogram and the scatter plot. The histogram on the diagonal allows us to see the distribution of a single variable while the scatter plots on the upper and lower triangles show the relationship (or lack thereof) between two variables.  \n",
    "For Reference: https://towardsdatascience.com/visualizing-data-with-pair-plots-in-python-f228cf529166"
   ]
  },
  {
   "cell_type": "code",
   "execution_count": 59,
   "metadata": {
    "ExecuteTime": {
     "end_time": "2020-01-27T06:56:01.255098Z",
     "start_time": "2020-01-27T06:56:00.754405Z"
    }
   },
   "outputs": [
    {
     "data": {
      "image/png": "[encoded data removed]",
      "text/plain": [
       "<Figure size 576x576 with 2 Axes>"
      ]
     },
     "metadata": {
      "needs_background": "light"
     },
     "output_type": "display_data"
    }
   ],
   "source": [
    "sns.heatmap(diabetes[diabetes.columns[:8]].corr(),annot=True,cmap='RdYlGn')\n",
    "fig=plt.gcf()\n",
    "fig.set_size_inches(8,8)\n",
    "plt.show()"
   ]
  },
  {
   "cell_type": "markdown",
   "metadata": {},
   "source": [
    "From this correlation map we can say that, no two features are corelated.So we cannot eliminate any features just by looking at the correlation matrix."
   ]
  },
  {
   "cell_type": "code",
   "execution_count": 126,
   "metadata": {
    "ExecuteTime": {
     "end_time": "2020-01-27T07:52:47.877542Z",
     "start_time": "2020-01-27T07:52:47.869552Z"
    }
   },
   "outputs": [],
   "source": [
    "from sklearn import svm\n",
    "from sklearn.svm import SVC\n",
    "from sklearn.neighbors  import KNeighborsClassifier\n",
    "from sklearn.tree import DecisionTreeClassifier\n",
    "from sklearn.ensemble import RandomForestClassifier\n",
    "from sklearn.ensemble import AdaBoostClassifier\n",
    "from sklearn.ensemble import GradientBoostingClassifier\n",
    "from sklearn.model_selection import train_test_split\n",
    "from sklearn.model_selection import KFold\n",
    "from sklearn import metrics"
   ]
  },
  {
   "cell_type": "code",
   "execution_count": 129,
   "metadata": {
    "ExecuteTime": {
     "end_time": "2020-01-27T07:53:04.001413Z",
     "start_time": "2020-01-27T07:53:03.981447Z"
    }
   },
   "outputs": [],
   "source": [
    "outcome=diabetes['Outcome']\n",
    "data=diabetes[diabetes.columns[:8]]\n",
    "train,test=train_test_split(diabetes,test_size=0.25,random_state=100,stratify=diabetes['Outcome'])# stratify the outcome\n",
    "train_X=train[train.columns[:8]]\n",
    "test_X=test[test.columns[:8]]\n",
    "train_Y=train['Outcome']\n",
    "test_Y=test['Outcome']"
   ]
  },
  {
   "cell_type": "code",
   "execution_count": 217,
   "metadata": {
    "ExecuteTime": {
     "end_time": "2020-01-27T08:44:57.235810Z",
     "start_time": "2020-01-27T08:44:54.199866Z"
    }
   },
   "outputs": [
    {
     "name": "stderr",
     "output_type": "stream",
     "text": [
      "C:\\Users\\sapph\\Anaconda3\\lib\\site-packages\\sklearn\\ensemble\\forest.py:245: FutureWarning: The default value of n_estimators will change from 10 in version 0.20 to 100 in 0.22.\n",
      "  \"10 in version 0.20 to 100 in 0.22.\", FutureWarning)\n"
     ]
    },
    {
     "data": {
      "text/html": [
       "<div>\n",
       "<style scoped>\n",
       "    .dataframe tbody tr th:only-of-type {\n",
       "        vertical-align: middle;\n",
       "    }\n",
       "\n",
       "    .dataframe tbody tr th {\n",
       "        vertical-align: top;\n",
       "    }\n",
       "\n",
       "    .dataframe thead th {\n",
       "        text-align: right;\n",
       "    }\n",
       "</style>\n",
       "<table border=\"1\" class=\"dataframe\">\n",
       "  <thead>\n",
       "    <tr style=\"text-align: right;\">\n",
       "      <th></th>\n",
       "      <th>Accuracy</th>\n",
       "      <th>Roc_auc</th>\n",
       "    </tr>\n",
       "  </thead>\n",
       "  <tbody>\n",
       "    <tr>\n",
       "      <th>Linear Svm</th>\n",
       "      <td>0.765625</td>\n",
       "      <td>0.748626</td>\n",
       "    </tr>\n",
       "    <tr>\n",
       "      <th>KNN</th>\n",
       "      <td>0.723958</td>\n",
       "      <td>0.694673</td>\n",
       "    </tr>\n",
       "    <tr>\n",
       "      <th>Decision Tree</th>\n",
       "      <td>0.661458</td>\n",
       "      <td>0.628321</td>\n",
       "    </tr>\n",
       "    <tr>\n",
       "      <th>Random forest</th>\n",
       "      <td>0.750000</td>\n",
       "      <td>0.726875</td>\n",
       "    </tr>\n",
       "    <tr>\n",
       "      <th>gbc</th>\n",
       "      <td>0.755208</td>\n",
       "      <td>0.730645</td>\n",
       "    </tr>\n",
       "    <tr>\n",
       "      <th>adaboost</th>\n",
       "      <td>0.760417</td>\n",
       "      <td>0.737479</td>\n",
       "    </tr>\n",
       "  </tbody>\n",
       "</table>\n",
       "</div>"
      ],
      "text/plain": [
       "               Accuracy   Roc_auc\n",
       "Linear Svm     0.765625  0.748626\n",
       "KNN            0.723958  0.694673\n",
       "Decision Tree  0.661458  0.628321\n",
       "Random forest  0.750000  0.726875\n",
       "gbc            0.755208  0.730645\n",
       "adaboost       0.760417  0.737479"
      ]
     },
     "execution_count": 217,
     "metadata": {},
     "output_type": "execute_result"
    }
   ],
   "source": [
    "abc=[]\n",
    "roc=[]\n",
    "classifiers=['Linear Svm','KNN','Decision Tree', 'Random forest', 'gbc', 'adaboost']\n",
    "models=[svm.SVC(kernel='linear'),KNeighborsClassifier(), DecisionTreeClassifier(random_state=0), RandomForestClassifier(random_state=0), GradientBoostingClassifier(random_state= 0), AdaBoostClassifier(random_state=0)]\n",
    "for i in models:\n",
    "    model = i\n",
    "    model.fit(train_X,train_Y)\n",
    "    prediction=model.predict(test_X)\n",
    "    abc.append(metrics.accuracy_score(prediction,test_Y))\n",
    "    roc.append(metrics.roc_auc_score(prediction,test_Y))\n",
    "models_df=pd.DataFrame(abc,index=classifiers)   \n",
    "models_df.columns=['Accuracy' ]\n",
    "models_df['Roc_auc']= roc\n",
    "models_df"
   ]
  },
  {
   "cell_type": "markdown",
   "metadata": {},
   "source": [
    "#### The above algorithms are not giving a very high accuracy. This can be improved by:\n",
    "* Using Feature Selection and using only relevant features. we can Standardize the dataset based on this four important feature.\n",
    "\n",
    "* KNN and Ensemble model optimization"
   ]
  },
  {
   "cell_type": "code",
   "execution_count": 231,
   "metadata": {
    "ExecuteTime": {
     "end_time": "2020-01-27T18:40:24.807500Z",
     "start_time": "2020-01-27T18:40:24.471946Z"
    }
   },
   "outputs": [
    {
     "name": "stderr",
     "output_type": "stream",
     "text": [
      "C:\\Users\\sapph\\Anaconda3\\lib\\site-packages\\sklearn\\ensemble\\forest.py:245: FutureWarning: The default value of n_estimators will change from 10 in version 0.20 to 100 in 0.22.\n",
      "  \"10 in version 0.20 to 100 in 0.22.\", FutureWarning)\n"
     ]
    },
    {
     "name": "stdout",
     "output_type": "stream",
     "text": [
      "Glucose                     0.254636\n",
      "BMI                         0.146041\n",
      "Age                         0.128070\n",
      "DiabetesPedigreeFunction    0.126335\n",
      "BloodPressure               0.097418\n",
      "Pregnancies                 0.087117\n",
      "Insulin                     0.083179\n",
      "SkinThickness               0.077204\n",
      "dtype: float64\n",
      "DecisionTree Feature ranking:\n"
     ]
    },
    {
     "data": {
      "image/png": "[encoded data removed]",
      "text/plain": [
       "<Figure size 1080x360 with 1 Axes>"
      ]
     },
     "metadata": {
      "needs_background": "light"
     },
     "output_type": "display_data"
    }
   ],
   "source": [
    "from sklearn.ensemble import RandomForestClassifier \n",
    "model= RandomForestClassifier(random_state=0)\n",
    "X=diabetes[diabetes.columns[:8]]\n",
    "Y=diabetes['Outcome']\n",
    "feat_names= diabetes.columns[:8]\n",
    "model.fit(X,Y)\n",
    "print(pd.Series(model.feature_importances_,index=X.columns).sort_values(ascending=False))\n",
    "\n",
    "#Feature Importance\n",
    "importance = model.feature_importances_\n",
    "indices = np.argsort(importance)[::-1]\n",
    "print(\"DecisionTree Feature ranking:\")\n",
    "plt.figure(figsize=(15,5))\n",
    "plt.title(\"DecisionTree Feature importances\")\n",
    "plt.bar(range(X.shape[1]), importance[indices], color=\"green\", align=\"center\")\n",
    "plt.xticks(range(X.shape[1]), feat_names[indices])\n",
    "plt.xlim([-1, X.shape[1]])\n",
    "plt.savefig(\"feature importance.png\")\n",
    "plt.show()"
   ]
  },
  {
   "cell_type": "markdown",
   "metadata": {},
   "source": [
    "# Optimizing KNN"
   ]
  },
  {
   "cell_type": "code",
   "execution_count": 218,
   "metadata": {
    "ExecuteTime": {
     "end_time": "2020-01-27T08:45:05.569657Z",
     "start_time": "2020-01-27T08:45:05.329981Z"
    }
   },
   "outputs": [
    {
     "data": {
      "image/png": "[encoded data removed]",
      "text/plain": [
       "<Figure size 432x288 with 1 Axes>"
      ]
     },
     "metadata": {
      "needs_background": "light"
     },
     "output_type": "display_data"
    },
    {
     "name": "stdout",
     "output_type": "stream",
     "text": [
      "Accuracies for different values of n are: [0.65184147 0.75928144 0.72687459 0.77047655 0.69467319 0.72467614\n",
      " 0.67591241 0.73065111 0.75235567 0.75102041 0.72006303 0.71180556\n",
      " 0.71413404 0.7056493 ]\n"
     ]
    }
   ],
   "source": [
    "a_index=list(range(1,15))\n",
    "a=pd.Series()\n",
    "x=[0,1,2,3,4,5,6,7,8,9,10]\n",
    "for i in list(range(1,15)):\n",
    "    model=KNeighborsClassifier(n_neighbors=i) \n",
    "    model.fit(train_X,train_Y)\n",
    "    prediction=model.predict(test_X)\n",
    "    a=a.append(pd.Series(metrics.roc_auc_score(prediction,test_Y)))\n",
    "plt.plot(a_index, a)\n",
    "plt.xticks(x)\n",
    "plt.show()\n",
    "print('Accuracies for different values of n are:',a.values)"
   ]
  },
  {
   "cell_type": "markdown",
   "metadata": {
    "ExecuteTime": {
     "end_time": "2020-01-27T07:44:07.816327Z",
     "start_time": "2020-01-27T07:44:07.813337Z"
    }
   },
   "source": [
    "# Standardisation"
   ]
  },
  {
   "cell_type": "code",
   "execution_count": 162,
   "metadata": {
    "ExecuteTime": {
     "end_time": "2020-01-27T08:14:22.351174Z",
     "start_time": "2020-01-27T08:14:22.311231Z"
    }
   },
   "outputs": [],
   "source": [
    "diabetes_std=diabetes[['Glucose','BMI','Age','DiabetesPedigreeFunction','Outcome']]\n",
    "\n",
    " #Standardisation\n",
    "from sklearn.preprocessing import StandardScaler\n",
    "features=diabetes_std[diabetes_std.columns[:4]]\n",
    "\n",
    "# Gaussian Standardisation\n",
    "features_standard=StandardScaler().fit_transform(features)\n",
    "std_data=pd.DataFrame(features_standard,columns=[['Glucose','BMI','Age','DiabetesPedigreeFunction']])\n",
    "std_data['Outcome']=diabetes_std['Outcome']\n",
    "# outcome=std_data['Outcome']\n",
    "train1,test1=train_test_split(std_data,test_size=0.25,random_state=0,stratify=std_data['Outcome'])\n",
    "train_X1=train1[train1.columns[:4]]\n",
    "test_X1=test1[test1.columns[:4]]\n",
    "train_Y1=train1['Outcome']\n",
    "test_Y1=test1['Outcome']"
   ]
  },
  {
   "cell_type": "code",
   "execution_count": 163,
   "metadata": {
    "ExecuteTime": {
     "end_time": "2020-01-27T08:14:23.054728Z",
     "start_time": "2020-01-27T08:14:22.711217Z"
    }
   },
   "outputs": [
    {
     "name": "stderr",
     "output_type": "stream",
     "text": [
      "C:\\Users\\sapph\\Anaconda3\\lib\\site-packages\\sklearn\\utils\\validation.py:724: DataConversionWarning: A column-vector y was passed when a 1d array was expected. Please change the shape of y to (n_samples, ), for example using ravel().\n",
      "  y = column_or_1d(y, warn=True)\n",
      "C:\\Users\\sapph\\Anaconda3\\lib\\site-packages\\ipykernel_launcher.py:7: DataConversionWarning: A column-vector y was passed when a 1d array was expected. Please change the shape of y to (n_samples, ), for example using ravel().\n",
      "  import sys\n",
      "C:\\Users\\sapph\\Anaconda3\\lib\\site-packages\\sklearn\\ensemble\\forest.py:245: FutureWarning: The default value of n_estimators will change from 10 in version 0.20 to 100 in 0.22.\n",
      "  \"10 in version 0.20 to 100 in 0.22.\", FutureWarning)\n",
      "C:\\Users\\sapph\\Anaconda3\\lib\\site-packages\\ipykernel_launcher.py:7: DataConversionWarning: A column-vector y was passed when a 1d array was expected. Please change the shape of y to (n_samples,), for example using ravel().\n",
      "  import sys\n",
      "C:\\Users\\sapph\\Anaconda3\\lib\\site-packages\\sklearn\\ensemble\\gradient_boosting.py:1450: DataConversionWarning: A column-vector y was passed when a 1d array was expected. Please change the shape of y to (n_samples, ), for example using ravel().\n",
      "  y = column_or_1d(y, warn=True)\n",
      "C:\\Users\\sapph\\Anaconda3\\lib\\site-packages\\sklearn\\utils\\validation.py:724: DataConversionWarning: A column-vector y was passed when a 1d array was expected. Please change the shape of y to (n_samples, ), for example using ravel().\n",
      "  y = column_or_1d(y, warn=True)\n"
     ]
    },
    {
     "data": {
      "text/html": [
       "<div>\n",
       "<style scoped>\n",
       "    .dataframe tbody tr th:only-of-type {\n",
       "        vertical-align: middle;\n",
       "    }\n",
       "\n",
       "    .dataframe tbody tr th {\n",
       "        vertical-align: top;\n",
       "    }\n",
       "\n",
       "    .dataframe thead th {\n",
       "        text-align: right;\n",
       "    }\n",
       "</style>\n",
       "<table border=\"1\" class=\"dataframe\">\n",
       "  <thead>\n",
       "    <tr style=\"text-align: right;\">\n",
       "      <th></th>\n",
       "      <th>New Accuracy</th>\n",
       "      <th>New_roc</th>\n",
       "    </tr>\n",
       "  </thead>\n",
       "  <tbody>\n",
       "    <tr>\n",
       "      <th>Linear Svm</th>\n",
       "      <td>0.776042</td>\n",
       "      <td>0.759662</td>\n",
       "    </tr>\n",
       "    <tr>\n",
       "      <th>KNN</th>\n",
       "      <td>0.729167</td>\n",
       "      <td>0.712324</td>\n",
       "    </tr>\n",
       "    <tr>\n",
       "      <th>Decision Tree</th>\n",
       "      <td>0.708333</td>\n",
       "      <td>0.677372</td>\n",
       "    </tr>\n",
       "    <tr>\n",
       "      <th>Random forest</th>\n",
       "      <td>0.807292</td>\n",
       "      <td>0.798309</td>\n",
       "    </tr>\n",
       "    <tr>\n",
       "      <th>gbc</th>\n",
       "      <td>0.765625</td>\n",
       "      <td>0.744081</td>\n",
       "    </tr>\n",
       "    <tr>\n",
       "      <th>adaboost</th>\n",
       "      <td>0.781250</td>\n",
       "      <td>0.761947</td>\n",
       "    </tr>\n",
       "  </tbody>\n",
       "</table>\n",
       "</div>"
      ],
      "text/plain": [
       "               New Accuracy   New_roc\n",
       "Linear Svm         0.776042  0.759662\n",
       "KNN                0.729167  0.712324\n",
       "Decision Tree      0.708333  0.677372\n",
       "Random forest      0.807292  0.798309\n",
       "gbc                0.765625  0.744081\n",
       "adaboost           0.781250  0.761947"
      ]
     },
     "execution_count": 163,
     "metadata": {},
     "output_type": "execute_result"
    }
   ],
   "source": [
    "abc=[]\n",
    "roc=[]\n",
    "classifiers=['Linear Svm','KNN','Decision Tree', 'Random forest', 'gbc', 'adaboost']\n",
    "models=[svm.SVC(kernel='linear'),KNeighborsClassifier(n_neighbors=4), DecisionTreeClassifier(random_state=0), RandomForestClassifier(random_state=0), GradientBoostingClassifier(random_state= 0), AdaBoostClassifier(random_state=0)]\n",
    "for i in models:\n",
    "    model = i\n",
    "    model.fit(train_X1,train_Y1)\n",
    "    prediction=model.predict(test_X1)\n",
    "    abc.append(metrics.accuracy_score(prediction,test_Y1))\n",
    "    roc.append(metrics.roc_auc_score(prediction,test_Y1))\n",
    "new_models_df=pd.DataFrame(abc,index=classifiers)   \n",
    "new_models_df.columns=['New Accuracy']\n",
    "new_models_df['New_roc']= roc\n",
    "new_models_df"
   ]
  },
  {
   "cell_type": "code",
   "execution_count": 164,
   "metadata": {
    "ExecuteTime": {
     "end_time": "2020-01-27T08:14:23.671246Z",
     "start_time": "2020-01-27T08:14:23.639324Z"
    }
   },
   "outputs": [
    {
     "data": {
      "text/html": [
       "<div>\n",
       "<style scoped>\n",
       "    .dataframe tbody tr th:only-of-type {\n",
       "        vertical-align: middle;\n",
       "    }\n",
       "\n",
       "    .dataframe tbody tr th {\n",
       "        vertical-align: top;\n",
       "    }\n",
       "\n",
       "    .dataframe thead th {\n",
       "        text-align: right;\n",
       "    }\n",
       "</style>\n",
       "<table border=\"1\" class=\"dataframe\">\n",
       "  <thead>\n",
       "    <tr style=\"text-align: right;\">\n",
       "      <th></th>\n",
       "      <th>New Accuracy</th>\n",
       "      <th>New_roc</th>\n",
       "      <th>Accuracy</th>\n",
       "      <th>Roc_auc</th>\n",
       "      <th>Increase_auc</th>\n",
       "      <th>Increase_roc</th>\n",
       "    </tr>\n",
       "  </thead>\n",
       "  <tbody>\n",
       "    <tr>\n",
       "      <th>Linear Svm</th>\n",
       "      <td>0.776042</td>\n",
       "      <td>0.759662</td>\n",
       "      <td>0.765625</td>\n",
       "      <td>0.748626</td>\n",
       "      <td>0.010417</td>\n",
       "      <td>0.011035</td>\n",
       "    </tr>\n",
       "    <tr>\n",
       "      <th>KNN</th>\n",
       "      <td>0.729167</td>\n",
       "      <td>0.712324</td>\n",
       "      <td>0.755208</td>\n",
       "      <td>0.770477</td>\n",
       "      <td>-0.026042</td>\n",
       "      <td>-0.058152</td>\n",
       "    </tr>\n",
       "    <tr>\n",
       "      <th>Decision Tree</th>\n",
       "      <td>0.708333</td>\n",
       "      <td>0.677372</td>\n",
       "      <td>0.661458</td>\n",
       "      <td>0.628321</td>\n",
       "      <td>0.046875</td>\n",
       "      <td>0.049051</td>\n",
       "    </tr>\n",
       "    <tr>\n",
       "      <th>Random forest</th>\n",
       "      <td>0.807292</td>\n",
       "      <td>0.798309</td>\n",
       "      <td>0.750000</td>\n",
       "      <td>0.726875</td>\n",
       "      <td>0.057292</td>\n",
       "      <td>0.071435</td>\n",
       "    </tr>\n",
       "    <tr>\n",
       "      <th>gbc</th>\n",
       "      <td>0.765625</td>\n",
       "      <td>0.744081</td>\n",
       "      <td>0.755208</td>\n",
       "      <td>0.730645</td>\n",
       "      <td>0.010417</td>\n",
       "      <td>0.013436</td>\n",
       "    </tr>\n",
       "    <tr>\n",
       "      <th>adaboost</th>\n",
       "      <td>0.781250</td>\n",
       "      <td>0.761947</td>\n",
       "      <td>0.760417</td>\n",
       "      <td>0.737479</td>\n",
       "      <td>0.020833</td>\n",
       "      <td>0.024468</td>\n",
       "    </tr>\n",
       "  </tbody>\n",
       "</table>\n",
       "</div>"
      ],
      "text/plain": [
       "               New Accuracy   New_roc  Accuracy   Roc_auc  Increase_auc  \\\n",
       "Linear Svm         0.776042  0.759662  0.765625  0.748626      0.010417   \n",
       "KNN                0.729167  0.712324  0.755208  0.770477     -0.026042   \n",
       "Decision Tree      0.708333  0.677372  0.661458  0.628321      0.046875   \n",
       "Random forest      0.807292  0.798309  0.750000  0.726875      0.057292   \n",
       "gbc                0.765625  0.744081  0.755208  0.730645      0.010417   \n",
       "adaboost           0.781250  0.761947  0.760417  0.737479      0.020833   \n",
       "\n",
       "               Increase_roc  \n",
       "Linear Svm         0.011035  \n",
       "KNN               -0.058152  \n",
       "Decision Tree      0.049051  \n",
       "Random forest      0.071435  \n",
       "gbc                0.013436  \n",
       "adaboost           0.024468  "
      ]
     },
     "execution_count": 164,
     "metadata": {},
     "output_type": "execute_result"
    }
   ],
   "source": [
    "new_models_df=new_models_df.merge(models_df,left_index=True,right_index=True,how='left')\n",
    "new_models_df['Increase_auc']=new_models_df['New Accuracy']-new_models_df['Accuracy']\n",
    "new_models_df['Increase_roc']=new_models_df['New_roc']-new_models_df['Roc_auc']\n",
    "new_models_df\n",
    "new_models_df"
   ]
  },
  {
   "cell_type": "markdown",
   "metadata": {},
   "source": [
    "##### Result: After Standardisation, we can see there is a increase of ~6% in accuracy and ~7% increase in AUC in Random forest classifier."
   ]
  },
  {
   "cell_type": "markdown",
   "metadata": {},
   "source": [
    "# Final Ensemble model"
   ]
  },
  {
   "cell_type": "code",
   "execution_count": 212,
   "metadata": {
    "ExecuteTime": {
     "end_time": "2020-01-27T08:40:32.332608Z",
     "start_time": "2020-01-27T08:40:32.272689Z"
    }
   },
   "outputs": [
    {
     "name": "stdout",
     "output_type": "stream",
     "text": [
      "Accuracy is 0.8072916666666666\n",
      "Roc_auc is 0.7983091787439612\n"
     ]
    },
    {
     "name": "stderr",
     "output_type": "stream",
     "text": [
      "C:\\Users\\sapph\\Anaconda3\\lib\\site-packages\\sklearn\\ensemble\\forest.py:245: FutureWarning: The default value of n_estimators will change from 10 in version 0.20 to 100 in 0.22.\n",
      "  \"10 in version 0.20 to 100 in 0.22.\", FutureWarning)\n",
      "C:\\Users\\sapph\\Anaconda3\\lib\\site-packages\\ipykernel_launcher.py:3: DataConversionWarning: A column-vector y was passed when a 1d array was expected. Please change the shape of y to (n_samples,), for example using ravel().\n",
      "  This is separate from the ipykernel package so we can avoid doing imports until\n"
     ]
    }
   ],
   "source": [
    "\n",
    "rfc= RandomForestClassifier(random_state=0)\n",
    "clf_ = rfc.fit(train_X1,train_Y1)\n",
    "y_pred = clf_.predict(test_X1)\n",
    "print('Accuracy is {}'.format(metrics.accuracy_score(y_pred, test_Y1)))\n",
    "print('Roc_auc is {}'.format(metrics.roc_auc_score(y_pred, test_Y1 )))\n",
    "# y_pred_proba = rfc.predict_proba(test_X1)[:,1]\n",
    "\n"
   ]
  },
  {
   "cell_type": "code",
   "execution_count": 232,
   "metadata": {
    "ExecuteTime": {
     "end_time": "2020-01-27T18:52:34.904453Z",
     "start_time": "2020-01-27T18:52:34.668801Z"
    }
   },
   "outputs": [
    {
     "data": {
      "image/png": "[encoded data removed]",
      "text/plain": [
       "<Figure size 432x288 with 1 Axes>"
      ]
     },
     "metadata": {
      "needs_background": "light"
     },
     "output_type": "display_data"
    }
   ],
   "source": [
    "fpr, tpr, thresholds= metrics.roc_curve(y_pred, test_Y1)\n",
    "plt.figure()\n",
    "# plt.plot(, )\n",
    "plt.plot([0,1],[0,1],'k--')\n",
    "plt.plot(fpr,tpr, label='RandonForestClassifier')\n",
    "plt.xlabel('False positive')\n",
    "plt.ylabel('True positive')\n",
    "plt.title('RandonforestClassifier ROC curve')\n",
    "plt.savefig('ROC curve.png')\n",
    "plt.show()"
   ]
  },
  {
   "cell_type": "markdown",
   "metadata": {
    "ExecuteTime": {
     "end_time": "2020-01-27T08:12:27.113054Z",
     "start_time": "2020-01-27T08:12:26.250205Z"
    }
   },
   "source": [
    "## Conclusion: After analysing and using different ensemble model, we can predict whether the patients is  diabetic or not with an accuracy of 80.7% and with an AUC of 76.54%"
   ]
  },
  {
   "cell_type": "code",
   "execution_count": null,
   "metadata": {},
   "outputs": [],
   "source": []
  }
 ],
 "metadata": {
  "kernelspec": {
   "display_name": "Python 3",
   "language": "python",
   "name": "python3"
  },
  "language_info": {
   "codemirror_mode": {
    "name": "ipython",
    "version": 3
   },
   "file_extension": ".py",
   "mimetype": "text/x-python",
   "name": "python",
   "nbconvert_exporter": "python",
   "pygments_lexer": "ipython3",
   "version": "3.7.0"
  }
 },
 "nbformat": 4,
 "nbformat_minor": 2
}
